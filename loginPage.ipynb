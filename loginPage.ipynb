{
 "nbformat": 4,
 "nbformat_minor": 2,
 "metadata": {
  "language_info": {
   "name": "python",
   "codemirror_mode": {
    "name": "ipython",
    "version": 3
   }
  },
  "orig_nbformat": 2,
  "file_extension": ".py",
  "mimetype": "text/x-python",
  "name": "python",
  "npconvert_exporter": "python",
  "pygments_lexer": "ipython3",
  "version": 3
 },
 "cells": [
  {
   "cell_type": "code",
   "execution_count": null,
   "metadata": {},
   "outputs": [],
   "source": [
    "import tkinter as tk\n",
    "import ctypes\n",
    "\n",
    "class App(tk.Tk): #tkinter(tk).Tk() 윈도우 창 생성\n",
    "    def __init__(self):\n",
    "        tk.Tk.__init__(self)\n",
    "        self._frame = None\n",
    "        self.switch_frame(LoginPage)\n",
    "        self.display_setting()\n",
    "\n",
    "    def switch_frame(self, frame_class):\n",
    "        new_frame = frame_class(self)\n",
    "        if self._frame is not None:\n",
    "            self._frame.destroy()\n",
    "        self._frame = new_frame\n",
    "        self._frame.pack()\n",
    "\n",
    "    def display_setting(self):\n",
    "        self.user32 = ctypes.windll.user32\n",
    "        self.screen_width = self.user32.GetSystemMetrics(0)\n",
    "        self.screen_height = self.user32.GetSystemMetrics(1)\n",
    "        self.app_width = 300\n",
    "        self.app_height = 200\n",
    "        self.screen_x = int((self.screen_width/2)-(self.app_width/2))\n",
    "        self.screen_y = int((self.screen_height/2)-(self.app_height/2))\n",
    "        self.resizable(False, False)\n",
    "        self.geometry(\"{}x{}+{}+{}\".format(self.app_width, self.app_height, self.screen_x, self.screen_y))\n",
    "\n",
    "class LoginPage(tk.Frame):\n",
    "    def __init__(self, master): #master은 부모를 의미. 즉, Tk를 의미\n",
    "        master.title('로그인')\n",
    "        tk.Frame.__init__(self, master)\n",
    "        tk.Label(self, text=\"This is page one\").pack(\n",
    "            side=\"top\", fill=\"x\", pady=10)\n",
    "        tk.Button(self, text=\"Return to start page\",\n",
    "                  command=lambda: master.switch_frame(MainPage)).pack()\n",
    "\n",
    "#현재 모듈이 import 된 것인지, main 으로 실행된 것인지 여부는 __name__ == \"__main__\" 으로 확인 가능 합니다. Python 파일이 main 으로 실행된 경우는 __name__ 이 \"__main__\" 으로 설정되기 때문입니다.\n",
    "if __name__ == \"__main__\": #main 으로 실행됨, else->import 됨\n",
    "    app = App()\n",
    "    app.mainloop()"
   ]
  }
 ]
}