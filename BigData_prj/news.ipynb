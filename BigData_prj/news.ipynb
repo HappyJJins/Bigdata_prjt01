{
 "nbformat": 4,
 "nbformat_minor": 2,
 "metadata": {
  "language_info": {
   "name": "python",
   "codemirror_mode": {
    "name": "ipython",
    "version": 3
   },
   "version": "3.8.2-final"
  },
  "orig_nbformat": 2,
  "file_extension": ".py",
  "mimetype": "text/x-python",
  "name": "python",
  "npconvert_exporter": "python",
  "pygments_lexer": "ipython3",
  "version": 3,
  "kernelspec": {
   "name": "python38264bit316226c882d5476a8ddfb9e6e552539c",
   "display_name": "Python 3.8.2 64-bit"
  }
 },
 "cells": [
  {
   "cell_type": "code",
   "execution_count": 4,
   "metadata": {},
   "outputs": [
    {
     "output_type": "stream",
     "name": "stdout",
     "text": "0\n0                                                ...\n1                                                ...\n2                                                ...\n3                                                ...\n4                                                ...\n5                                                ...\n6                                                ...\n7       0        1        2       3\n0  코스피  1909....\n8                    0        1\n0   하나UBS암바토비니켈해외...\n9           0        1        2\n0    1 USD  1219....\n"
    }
   ],
   "source": [
    "import pandas as pd\n",
    "import numpy as np\n",
    "from io import StringIO\n",
    "\n",
    "url='https://news.naver.com/main/read.nhn?mode=LSD&mid=shm&sid1=101&oid=018&aid=0004622065'\n",
    "rawData=pd.read_html(url)\n",
    "news=pd.DataFrame(rawData)\n",
    "print(news)"
   ]
  },
  {
   "cell_type": "code",
   "execution_count": 8,
   "metadata": {},
   "outputs": [
    {
     "output_type": "stream",
     "name": "stdout",
     "text": "[경인포토]자라섬에 캥거루, 코알라 토피어리 설치 경인일보\n몬스타기어, 해외 인기 키보드 스위치 'Durock T1/코알라' 정식 출시 PC사랑\n호주산불로 코알라 서서히 줄어든다 환경미디어\n자라섬에 캥거루·코알라 토피어리… 가평농기센터·청년4H회원 '제작' 경인일보\n호주 상징 코알라, 성병 확산에 '위기'…결막염·사망 위험 연합뉴스언론사 선정\n도망치기엔 느려도 너무 느렸다, 호주산불에 코알라 멸종위기 중앙일보언론사 선정\n코알라를 걱정하는 당신에게 프레시안언론사 선정\n[영상] 호주 산불에 코알라 1천마리 희생…'기능적 멸종' 위기 한국경제TV언론사 선정\n도망치기엔 너무 느려...호주 산불로 코알라 멸종 위기 YTN언론사 선정\n호주 산불로 '멸종위기' 코알라, 뉴질랜드로 보내면 어떨까? 조선일보\n"
    }
   ],
   "source": [
    "import requests\n",
    "from bs4 import BeautifulSoup\n",
    "\n",
    "\n",
    "raw = requests.get(\"https://search.naver.com/search.naver?where=news&query=코알라\",\n",
    "                   headers={'User-Agent':'Mozilla/5.0'})\n",
    "html = BeautifulSoup(raw.text, \"html.parser\")\n",
    "\n",
    "articles = html.select(\"ul.type01 > li\")\n",
    "\n",
    "# 첫번째 기사에 대한 제목/언론사를 수집해서 출력합니다.\n",
    "# title = articles[0].select_one(\"a._sp_each_title\").text\n",
    "# source = articles[0].select_one(\"span._sp_each_source\").text\n",
    "\n",
    "# print(title, source)\n",
    "\n",
    "# 리스트를 사용한 반복문으로 모든 기사에 대해서 제목/언론사 출\n",
    "for ar in articles:\n",
    "    title = ar.select_one(\"a._sp_each_title\").text\n",
    "    source = ar.select_one(\"span._sp_each_source\").text\n",
    "\n",
    "    print(title, source)"
   ]
  },
  {
   "cell_type": "code",
   "execution_count": 28,
   "metadata": {},
   "outputs": [
    {
     "output_type": "stream",
     "name": "stdout",
     "text": "1 coronavirus-Apple store 연합뉴스\n\n2 Apple to reopen Seoul store Saturday 코리아헤럴드\n\n3 쿠팡, 17일부터 'iPad Pro 4세대' 사전예약 판매 진행 Korea IT Times\n\n4 아이폰SE2 24일부터 판매 '55만원' 광주매일신문\n\n5 Apple iPhone XR Review: A Cheaper Phone Suited to Most of Us The New York Times\n\n6 Fiona Apple’s Essential Songs The New York Times\n\n7 Cheaper iPhone AP연합뉴스\n\n8 Why Apple’s New Phone Doesn’t Matter The New York Times\n\n9 Apple, in a Virtual Unveiling, Introduces a $399 iPhone The New York Times\n\n10 [오늘의 장바구니] 쿠팡·인터파크·올리브영·손오공 외 프라임경제\n\n"
    }
   ],
   "source": [
    "import requests\n",
    "from bs4 import BeautifulSoup\n",
    "\n",
    "url1 = \"https://search.naver.com/search.naver?where=news&sm=tab_jum&query=\"\n",
    "url2 = input(\"검색어를 입력하세요: \")\n",
    "url = url1 + url2\n",
    "raw=requests.get(url,headers={'User-Agent':'Mozilla/5.0'})\n",
    "html=BeautifulSoup(raw.text, \"html.parser\")\n",
    "articles = html.select(\"ul.type01 > li\")\n",
    "\n",
    "# title = articles[0].select_one(\"a._sp_each_title\").text\n",
    "# source = articles[0].select_one(\"span._sp_each_source\").text\n",
    "\n",
    "# print(title, source)\n",
    "\n",
    "for index_num, ar in enumerate(articles):\n",
    "    title = ar.select_one(\"a._sp_each_title\").text\n",
    "    source = ar.select_one(\"span._sp_each_source\").text\n",
    "    print(index_num+1,title, source)\n",
    "    print()"
   ]
  },
  {
   "cell_type": "code",
   "execution_count": 32,
   "metadata": {},
   "outputs": [
    {
     "output_type": "stream",
     "name": "stdout",
     "text": "1 삼성전자, 'S펜 지원' 탭 S6 라이트 공개 연합뉴스\n\n2 삼성-LG, 5월 중저가폰 본격 대결 펼친다 뉴스웨이\n\n3 삼성전자, 인텔에 반도체 '왕좌' 내줘…작년 매출 29%↓ 한국경제언론사 선정\n\n4 삼성웰스토리, 내부거래 통한 실적 올리기?…공정위 ‘예의주시’ 더퍼블릭\n\n5 한사랑씨앤씨, '삼성전자 노트북 플러스' 네이버 할인 특가 프로모션 진행 PC사랑\n\n6 삼성·LG전자 해외공장, 언제나 가동될까 비즈니스워치\n\n7 삼성증권, 증권투자 시작 고객 위한 동영상 강의 진행 조세일보\n\n8 홍원표 화훼농가 돕기 릴레이 캠페인 참여, 삼성SDI 곳곳에 꽃 비치 비즈니스포스트\n\n9 땡큐 삼성 에이디테크, 올해 역대급 실적 기대 ZDNet Korea\n\n10 삼성전자 QLED 8K, 보고 듣는 것에 몰입한 이상적 TV 한국정책신문\n\n11 삼성전자, 'S펜 지원' 탭 S6 라이트 공개 연합뉴스\n\n12 삼성-LG, 5월 중저가폰 본격 대결 펼친다 뉴스웨이\n\n13 삼성전자, 인텔에 반도체 '왕좌' 내줘…작년 매출 29%↓ 한국경제언론사 선정\n\n14 삼성웰스토리, 내부거래 통한 실적 올리기?…공정위 ‘예의주시’ 더퍼블릭\n\n15 한사랑씨앤씨, '삼성전자 노트북 플러스' 네이버 할인 특가 프로모션 진행 PC사랑\n\n16 삼성·LG전자 해외공장, 언제나 가동될까 비즈니스워치\n\n17 삼성증권, 증권투자 시작 고객 위한 동영상 강의 진행 조세일보\n\n18 홍원표 화훼농가 돕기 릴레이 캠페인 참여, 삼성SDI 곳곳에 꽃 비치 비즈니스포스트\n\n19 땡큐 삼성 에이디테크, 올해 역대급 실적 기대 ZDNet Korea\n\n20 삼성전자 QLED 8K, 보고 듣는 것에 몰입한 이상적 TV 한국정책신문\n\n21 삼성전자, 'S펜 지원' 탭 S6 라이트 공개 연합뉴스\n\n22 삼성-LG, 5월 중저가폰 본격 대결 펼친다 뉴스웨이\n\n23 삼성전자, 인텔에 반도체 '왕좌' 내줘…작년 매출 29%↓ 한국경제언론사 선정\n\n24 삼성웰스토리, 내부거래 통한 실적 올리기?…공정위 ‘예의주시’ 더퍼블릭\n\n25 한사랑씨앤씨, '삼성전자 노트북 플러스' 네이버 할인 특가 프로모션 진행 PC사랑\n\n26 삼성·LG전자 해외공장, 언제나 가동될까 비즈니스워치\n\n27 삼성증권, 증권투자 시작 고객 위한 동영상 강의 진행 조세일보\n\n28 홍원표 화훼농가 돕기 릴레이 캠페인 참여, 삼성SDI 곳곳에 꽃 비치 비즈니스포스트\n\n29 땡큐 삼성 에이디테크, 올해 역대급 실적 기대 ZDNet Korea\n\n30 삼성전자 QLED 8K, 보고 듣는 것에 몰입한 이상적 TV 한국정책신문\n\n"
    }
   ],
   "source": [
    "import requests\n",
    "from bs4 import BeautifulSoup\n",
    "\n",
    "url1 = \"https://search.naver.com/search.naver?where=news&sm=tab_jum&query=\"\n",
    "url2 = input(\"검색어를 입력하세요: \")\n",
    "url = url1 + url2\n",
    "\n",
    "#한 페이지에 기사 10개씩,, 3페이지까지의 기사 불러오기\n",
    "end_page=3\n",
    "for n in range(0,end_page*10,10):\n",
    "    url=url+\"&start=\"+str(n)\n",
    "    raw=requests.get(url,headers={'User-Agent':'Mozilla/5.0'})\n",
    "    html=BeautifulSoup(raw.text, \"html.parser\")\n",
    "    articles = html.select(\"ul.type01 > li\")\n",
    "    for index_num, ar in enumerate(articles):\n",
    "        title = ar.select_one(\"a._sp_each_title\").text\n",
    "        source = ar.select_one(\"span._sp_each_source\").text\n",
    "        print(index_num+n+1,title, source)\n",
    "        print()\n",
    "\n",
    "# title = articles[0].select_one(\"a._sp_each_title\").text\n",
    "# source = articles[0].select_one(\"span._sp_each_source\").text\n",
    "\n",
    "# print(title, source)\n",
    "\n",
    "# for index_num, ar in enumerate(articles):\n",
    "#     title = ar.select_one(\"a._sp_each_title\").text\n",
    "#     source = ar.select_one(\"span._sp_each_source\").text\n",
    "#     print(index_num+1,title, source)\n",
    "#     print()"
   ]
  },
  {
   "cell_type": "code",
   "execution_count": 3,
   "metadata": {},
   "outputs": [],
   "source": [
    "import pandas as pd\n",
    "import numpy as np\n",
    "from io import StringIO\n",
    "import requests\n",
    "from bs4 import BeautifulSoup\n",
    "\n",
    "df=pd.DataFrame(columns=('title','source'))\n",
    "\n",
    "url1 = \"https://search.naver.com/search.naver?where=news&sm=tab_jum&query=\"\n",
    "url2 = input(\"검색어를 입력하세요: \")\n",
    "url = url1 + url2\n",
    "\n",
    "#한 페이지에 기사 10개씩,, 3페이지까지의 기사 불러오기\n",
    "end_page=3\n",
    "for n in range(0,end_page*10,10):\n",
    "    url=url+\"&start=\"+str(n)\n",
    "    raw=requests.get(url,headers={'User-Agent':'Mozilla/5.0'})\n",
    "    html=BeautifulSoup(raw.text, \"html.parser\")\n",
    "    articles = html.select(\"ul.type01 > li\")\n",
    "    for index_num, ar in enumerate(articles):\n",
    "        title = ar.select_one(\"a._sp_each_title\").text\n",
    "        source = ar.select_one(\"span._sp_each_source\").text\n",
    "        df.loc[len(df)]=[title,source]\n",
    "# print(df)\n",
    "df.to_csv('news.csv')"
   ]
  },
  {
   "cell_type": "code",
   "execution_count": 2,
   "metadata": {},
   "outputs": [
    {
     "output_type": "error",
     "ename": "AttributeError",
     "evalue": "'str' object has no attribute 'select_one'",
     "traceback": [
      "\u001b[1;31m---------------------------------------------------------------------------\u001b[0m",
      "\u001b[1;31mAttributeError\u001b[0m                            Traceback (most recent call last)",
      "\u001b[1;32m<ipython-input-2-a0aff2726db5>\u001b[0m in \u001b[0;36m<module>\u001b[1;34m\u001b[0m\n\u001b[0;32m      8\u001b[0m \u001b[0marticles\u001b[0m\u001b[1;33m=\u001b[0m\u001b[0mpd\u001b[0m\u001b[1;33m.\u001b[0m\u001b[0mread_csv\u001b[0m\u001b[1;33m(\u001b[0m\u001b[1;34m'news.csv'\u001b[0m\u001b[1;33m)\u001b[0m\u001b[1;33m\u001b[0m\u001b[1;33m\u001b[0m\u001b[0m\n\u001b[0;32m      9\u001b[0m \u001b[1;32mfor\u001b[0m \u001b[0mindex_num\u001b[0m\u001b[1;33m,\u001b[0m \u001b[0mar\u001b[0m \u001b[1;32min\u001b[0m \u001b[0menumerate\u001b[0m\u001b[1;33m(\u001b[0m\u001b[0marticles\u001b[0m\u001b[1;33m)\u001b[0m\u001b[1;33m:\u001b[0m\u001b[1;33m\u001b[0m\u001b[1;33m\u001b[0m\u001b[0m\n\u001b[1;32m---> 10\u001b[1;33m     \u001b[0mtitle\u001b[0m \u001b[1;33m=\u001b[0m \u001b[0mar\u001b[0m\u001b[1;33m.\u001b[0m\u001b[0mselect_one\u001b[0m\u001b[1;33m(\u001b[0m\u001b[1;34m\"a._sp_each_title\"\u001b[0m\u001b[1;33m)\u001b[0m\u001b[1;33m.\u001b[0m\u001b[0mtext\u001b[0m\u001b[1;33m\u001b[0m\u001b[1;33m\u001b[0m\u001b[0m\n\u001b[0m\u001b[0;32m     11\u001b[0m     \u001b[0msource\u001b[0m \u001b[1;33m=\u001b[0m \u001b[0mar\u001b[0m\u001b[1;33m.\u001b[0m\u001b[0mselect_one\u001b[0m\u001b[1;33m(\u001b[0m\u001b[1;34m\"span._sp_each_source\"\u001b[0m\u001b[1;33m)\u001b[0m\u001b[1;33m.\u001b[0m\u001b[0mtext\u001b[0m\u001b[1;33m\u001b[0m\u001b[1;33m\u001b[0m\u001b[0m\n\u001b[0;32m     12\u001b[0m     \u001b[0mdf\u001b[0m\u001b[1;33m.\u001b[0m\u001b[0mloc\u001b[0m\u001b[1;33m[\u001b[0m\u001b[0mlen\u001b[0m\u001b[1;33m(\u001b[0m\u001b[0mdf\u001b[0m\u001b[1;33m)\u001b[0m\u001b[1;33m]\u001b[0m\u001b[1;33m=\u001b[0m\u001b[1;33m[\u001b[0m\u001b[0mtitle\u001b[0m\u001b[1;33m,\u001b[0m\u001b[0msource\u001b[0m\u001b[1;33m]\u001b[0m\u001b[1;33m\u001b[0m\u001b[1;33m\u001b[0m\u001b[0m\n",
      "\u001b[1;31mAttributeError\u001b[0m: 'str' object has no attribute 'select_one'"
     ]
    }
   ],
   "source": [
    "import pandas as pd\n",
    "import numpy as np\n",
    "from io import StringIO\n",
    "import requests\n",
    "from bs4 import BeautifulSoup\n",
    "\n",
    "df=pd.read_csv('news.csv')\n",
    "\n",
    "titles=\"\"\n",
    "for i in df.title:\n",
    "    titles=titles+i\n"
   ]
  },
  {
   "cell_type": "code",
   "execution_count": 14,
   "metadata": {},
   "outputs": [],
   "source": [
    "# print(df.title)\n",
    "from collections import Counter\n",
    "from konlpy.tag import Twitter\n",
    "\n",
    "titles=\"\"\n",
    "for i in df.title:\n",
    "    titles=titles+i\n",
    "\n",
    "nlpy = Twitter()\n",
    "nouns = nlpy.nouns(titles)\n",
    "# print(nouns)\n",
    "\n",
    "count = Counter(titles)\n",
    "tag_count = []\n",
    "tags = []\n",
    "\n",
    "for n, c in count.most_common(100):\n",
    "    dics = {'tag': n, 'count': c}\n",
    "    if len(dics['tag']) >= 2 and len(tags) <= 49:\n",
    "        tag_count.append(dics)\n",
    "        tags.append(dics['tag'])\n",
    "\n",
    "for tag in tag_count:\n",
    "    print(\" {:<14}\".format(tag['tag']), end='\\t')\n",
    "    print(\"{}\".format(tag['count']))"
   ]
  },
  {
   "cell_type": "code",
   "execution_count": 4,
   "metadata": {},
   "outputs": [
    {
     "output_type": "error",
     "ename": "ModuleNotFoundError",
     "evalue": "No module named 'wordcloud'",
     "traceback": [
      "\u001b[1;31m---------------------------------------------------------------------------\u001b[0m",
      "\u001b[1;31mModuleNotFoundError\u001b[0m                       Traceback (most recent call last)",
      "\u001b[1;32m<ipython-input-4-29466579ca84>\u001b[0m in \u001b[0;36m<module>\u001b[1;34m\u001b[0m\n\u001b[0;32m     12\u001b[0m \u001b[1;32mimport\u001b[0m \u001b[0mwebbrowser\u001b[0m\u001b[1;33m\u001b[0m\u001b[1;33m\u001b[0m\u001b[0m\n\u001b[0;32m     13\u001b[0m \u001b[1;33m\u001b[0m\u001b[0m\n\u001b[1;32m---> 14\u001b[1;33m \u001b[1;32mfrom\u001b[0m \u001b[0mwordcloud\u001b[0m \u001b[1;32mimport\u001b[0m \u001b[0mWordCloud\u001b[0m\u001b[1;33m\u001b[0m\u001b[1;33m\u001b[0m\u001b[0m\n\u001b[0m\u001b[0;32m     15\u001b[0m \u001b[1;33m\u001b[0m\u001b[0m\n\u001b[0;32m     16\u001b[0m \u001b[1;33m\u001b[0m\u001b[0m\n",
      "\u001b[1;31mModuleNotFoundError\u001b[0m: No module named 'wordcloud'"
     ]
    }
   ],
   "source": [
    "import json\n",
    "import re\n",
    "\n",
    "from konlpy.tag import Twitter\n",
    "from collections import Counter\n",
    "\n",
    "import matplotlib.pyplot as plt\n",
    "import matplotlib\n",
    "from matplotlib import font_manager, rc\n",
    "\n",
    "import pytagcloud\n",
    "import webbrowser\n",
    "\n",
    "from wordcloud import WordCloud\n",
    "\n",
    "\n",
    "#[CODE 1]\n",
    "\n",
    "def showGraph(wordInfo):\n",
    "    \n",
    "    font_location = \"c:/Windows/fonts/malgun.ttf\"\n",
    "    font_name = font_manager.FontProperties(fname=font_location).get_name()\n",
    "    matplotlib.rc('font', family=font_name)\n",
    "\n",
    "    plt.xlabel('주요 단어')\n",
    "    plt.ylabel('빈도수')\n",
    "    plt.grid(True)\n",
    "    \n",
    "    Sorted_Dict_Values = sorted(wordInfo.values(), reverse=True)\n",
    "    Sorted_Dict_Keys = sorted(wordInfo, key=wordInfo.get, reverse=True)\n",
    "\n",
    "    plt.bar(range(len(wordInfo)), Sorted_Dict_Values, align='center')\n",
    "    plt.xticks(range(len(wordInfo)), list(Sorted_Dict_Keys), rotation='70')\n",
    "\n",
    "    plt.show()\n",
    "\n",
    "\n",
    "# def saveWordCloud(wordInfo, filename):\n",
    "    \n",
    "#     taglist = pytagcloud.make_tags(dict(wordInfo).items(), maxsize=80)\n",
    "#     pytagcloud.create_tag_image(taglist, filename, size=(640, 480), fontname='korean', rectangular=False)\n",
    "#     webbrowser.open(filename)   \n",
    "\n",
    "def WordCloud(wordInfo):\n",
    "    wordcloud = WordCloud(colormap = \"Accent_r\", width=1500, height=1000).generate_from_frequencies(wordInfo)\n",
    "    plt.imshow(wordcloud)\n",
    "    plt.axis('off')\n",
    "    plt.show()\n",
    "\n",
    "    \n",
    "def main():\n",
    "    df=pd.read_csv('news.csv')\n",
    "\n",
    "    titles=\"\"\n",
    "    for i in df.title:\n",
    "        titles=titles+i\n",
    "\n",
    "    nlp = Twitter()\n",
    "    nouns = nlp.nouns(titles)\n",
    "    count = Counter(nouns)\n",
    "\n",
    "    wordInfo = dict()\n",
    "    for tags, counts in count.most_common(50):\n",
    "        if (len(str(tags)) > 1):\n",
    "            wordInfo[tags] = counts\n",
    "            print (\"%s : %d\" % (tags, counts))\n",
    "            \n",
    "    showGraph(wordInfo)\n",
    "    WordCloud(wordInfo)\n",
    "    \n",
    "if __name__ == \"__main__\":\n",
    "    main()"
   ]
  },
  {
   "cell_type": "code",
   "execution_count": null,
   "metadata": {},
   "outputs": [],
   "source": []
  },
  {
   "cell_type": "markdown",
   "metadata": {},
   "source": [
    "# import json\n",
    "import re\n",
    "\n",
    "from konlpy.tag import Twitter\n",
    "from collections import Counter\n",
    "\n",
    "import matplotlib.pyplot as plt\n",
    "import matplotlib\n",
    "from matplotlib import font_manager, rc\n",
    "\n",
    "import pytagcloud\n",
    "import webbrowser\n",
    "\n",
    "#[CODE 1]\n",
    "\n",
    "def showGraph(wordInfo):\n",
    "    \n",
    "    font_location = \"c:/Windows/fonts/malgun.ttf\"\n",
    "    font_name = font_manager.FontProperties(fname=font_location).get_name()\n",
    "    matplotlib.rc('font', family=font_name)\n",
    "\n",
    "    plt.xlabel('주요 단어')\n",
    "    plt.ylabel('빈도수')\n",
    "    plt.grid(True)\n",
    "    \n",
    "    Sorted_Dict_Values = sorted(wordInfo.values(), reverse=True)\n",
    "    Sorted_Dict_Keys = sorted(wordInfo, key=wordInfo.get, reverse=True)\n",
    "\n",
    "    plt.bar(range(len(wordInfo)), Sorted_Dict_Values, align='center')\n",
    "    plt.xticks(range(len(wordInfo)), list(Sorted_Dict_Keys), rotation='70')\n",
    "\n",
    "    plt.show()\n",
    "\n",
    "#[CODE 2]\n",
    "\n",
    "def saveWordCloud(wordInfo, filename):\n",
    "    \n",
    "    taglist = pytagcloud.make_tags(dict(wordInfo).items(), maxsize=80)\n",
    "    pytagcloud.create_tag_image(taglist, filename, size=(640, 480), fontname='korean', rectangular=False)\n",
    "    webbrowser.open(filename)   \n",
    "    \n",
    "    \n",
    "def main():\n",
    "    #여기서 파일의 경로는 실제 JSON 데이터가 저장된 경로이다\n",
    "\n",
    "    openFileName = 'd:/Temp/FB_DATA/chosun_facebook_2016-10-01_2017-03-12.json'\n",
    "    #openFileName = 'd:/Temp/FB_DATA/jtbcnews_facebook_2016-10-01_2017-03-12.json'\n",
    "\n",
    "    cloudImagePath = openFileName + '.jpg'\n",
    "    \n",
    "    rfile = open(openFileName, 'r', encoding='utf-8').read()\n",
    "    \n",
    "    jsonData = json.loads(rfile)\n",
    "    message = ''\n"
   ]
  },
  {
   "cell_type": "code",
   "execution_count": 20,
   "metadata": {},
   "outputs": [
    {
     "output_type": "error",
     "ename": "AttributeError",
     "evalue": "'str' object has no attribute 'values'",
     "traceback": [
      "\u001b[1;31m---------------------------------------------------------------------------\u001b[0m",
      "\u001b[1;31mAttributeError\u001b[0m                            Traceback (most recent call last)",
      "\u001b[1;32m<ipython-input-20-1bda39fa0ab3>\u001b[0m in \u001b[0;36m<module>\u001b[1;34m\u001b[0m\n\u001b[1;32m----> 1\u001b[1;33m \u001b[0mshowGraph\u001b[0m\u001b[1;33m(\u001b[0m\u001b[0mtitles\u001b[0m\u001b[1;33m)\u001b[0m\u001b[1;33m\u001b[0m\u001b[1;33m\u001b[0m\u001b[0m\n\u001b[0m",
      "\u001b[1;32m<ipython-input-19-4afa10934d32>\u001b[0m in \u001b[0;36mshowGraph\u001b[1;34m(wordInfo)\u001b[0m\n\u001b[0;32m     24\u001b[0m     \u001b[0mplt\u001b[0m\u001b[1;33m.\u001b[0m\u001b[0mgrid\u001b[0m\u001b[1;33m(\u001b[0m\u001b[1;32mTrue\u001b[0m\u001b[1;33m)\u001b[0m\u001b[1;33m\u001b[0m\u001b[1;33m\u001b[0m\u001b[0m\n\u001b[0;32m     25\u001b[0m \u001b[1;33m\u001b[0m\u001b[0m\n\u001b[1;32m---> 26\u001b[1;33m     \u001b[0mSorted_Dict_Values\u001b[0m \u001b[1;33m=\u001b[0m \u001b[0msorted\u001b[0m\u001b[1;33m(\u001b[0m\u001b[0mwordInfo\u001b[0m\u001b[1;33m.\u001b[0m\u001b[0mvalues\u001b[0m\u001b[1;33m(\u001b[0m\u001b[1;33m)\u001b[0m\u001b[1;33m,\u001b[0m \u001b[0mreverse\u001b[0m\u001b[1;33m=\u001b[0m\u001b[1;32mTrue\u001b[0m\u001b[1;33m)\u001b[0m\u001b[1;33m\u001b[0m\u001b[1;33m\u001b[0m\u001b[0m\n\u001b[0m\u001b[0;32m     27\u001b[0m     \u001b[0mSorted_Dict_Keys\u001b[0m \u001b[1;33m=\u001b[0m \u001b[0msorted\u001b[0m\u001b[1;33m(\u001b[0m\u001b[0mwordInfo\u001b[0m\u001b[1;33m,\u001b[0m \u001b[0mkey\u001b[0m\u001b[1;33m=\u001b[0m\u001b[0mwordInfo\u001b[0m\u001b[1;33m.\u001b[0m\u001b[0mget\u001b[0m\u001b[1;33m,\u001b[0m \u001b[0mreverse\u001b[0m\u001b[1;33m=\u001b[0m\u001b[1;32mTrue\u001b[0m\u001b[1;33m)\u001b[0m\u001b[1;33m\u001b[0m\u001b[1;33m\u001b[0m\u001b[0m\n\u001b[0;32m     28\u001b[0m \u001b[1;33m\u001b[0m\u001b[0m\n",
      "\u001b[1;31mAttributeError\u001b[0m: 'str' object has no attribute 'values'"
     ]
    }
   ],
   "source": [
    "    wordInfo = dict()\n",
    "    for tags, counts in count.most_common(50):\n",
    "        if (len(str(tags)) > 1):\n",
    "            wordInfo[tags] = counts\n",
    "            print (\"%s : %d\" % (tags, counts))\n",
    "\n",
    "showGraph(titles)"
   ]
  },
  {
   "cell_type": "code",
   "execution_count": 9,
   "metadata": {},
   "outputs": [
    {
     "output_type": "error",
     "ename": "ModuleNotFoundError",
     "evalue": "No module named 'wordcloud'",
     "traceback": [
      "\u001b[1;31m---------------------------------------------------------------------------\u001b[0m",
      "\u001b[1;31mModuleNotFoundError\u001b[0m                       Traceback (most recent call last)",
      "\u001b[1;32m<ipython-input-9-021e0a03a31f>\u001b[0m in \u001b[0;36m<module>\u001b[1;34m\u001b[0m\n\u001b[1;32m----> 1\u001b[1;33m \u001b[1;32mfrom\u001b[0m \u001b[0mwordcloud\u001b[0m \u001b[1;32mimport\u001b[0m \u001b[0mWordCloud\u001b[0m\u001b[1;33m\u001b[0m\u001b[1;33m\u001b[0m\u001b[0m\n\u001b[0m",
      "\u001b[1;31mModuleNotFoundError\u001b[0m: No module named 'wordcloud'"
     ]
    }
   ],
   "source": [
    "from wordcloud import WordCloud"
   ]
  },
  {
   "cell_type": "code",
   "execution_count": null,
   "metadata": {},
   "outputs": [],
   "source": []
  }
 ]
}