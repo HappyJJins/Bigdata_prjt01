{
 "nbformat": 4,
 "nbformat_minor": 2,
 "metadata": {
  "language_info": {
   "name": "python",
   "codemirror_mode": {
    "name": "ipython",
    "version": 3
   },
   "version": "3.8.2-final"
  },
  "orig_nbformat": 2,
  "file_extension": ".py",
  "mimetype": "text/x-python",
  "name": "python",
  "npconvert_exporter": "python",
  "pygments_lexer": "ipython3",
  "version": 3,
  "kernelspec": {
   "name": "python38264bit316226c882d5476a8ddfb9e6e552539c",
   "display_name": "Python 3.8.2 64-bit"
  }
 },
 "cells": [
  {
   "cell_type": "code",
   "execution_count": null,
   "metadata": {},
   "outputs": [],
   "source": [
    "from tkinter import *\n",
    "import tkinter.scrolledtext as tkst\n",
    "from tkinter import ttk\n",
    "\n",
    "window = Tk()\n",
    "window.title('encrypted mail')\n",
    "window.geometry(\"350x500+100+100\")\n",
    "window.resizable(False, False)\n",
    "\n",
    "msg = '앃념 옟빛\u0005옟빛옻 삧궻늏 돔앃 막읯 펳즻 썣왏즻맇 읯벃엏 졻 늋낇읯 닟륯넟\u0005묯슣 맋뵻턫 핯앷 핛즻 몣륯겛닟..\u0005닻핔굋 -핔넿 땇 옟빛륷 첓읇 맇낓곛 0넿읯띷늏 싗꯿읯 흓럻넟\u0005찳 막윻 걾듟윿 핣껓 햃얯 귳즻:\u0005막읯 씿껯죷곛 삧람핯줓섗 넃묯 곛맃웇\u0005맇낓멯 넃묯 좆즻맇 떣얯젳 잃늏 싗꯿읯 막씿즻늏 욏즓 막읯 싳욫작씿, 욫릧\u0005막읯 즻칗닟..\u0005핯앷 핛 읷듟읯 넃묯 막씿..\u0005귳맇큷 엫띸윿 잋죷 핛 숓꯻ 엁늏 삼홤읳덫 옟빛늏 읯핯륷 몶 핓작씿\u0005덏 읯삼 옃쟿첓럷 즻낷 숓 엁윿 걾 갔씿\u0005귳맇핓잋\u0005잓즻낯'\n",
    "\n",
    "def encode(msg):\n",
    "    result = \"\"\n",
    "    for i in msg:\n",
    "        if i not in (' '):\n",
    "            i = chr(ord(i)-5)\n",
    "            result+=i\n",
    "        elif i ==' ':\n",
    "            result+=' '\n",
    "        elif i=='.':\n",
    "            result+='.'\n",
    "        else:\n",
    "            result+=','\n",
    "    return result\n",
    "\n",
    "def decode():\n",
    "    result=\"\"\n",
    "    for i in msg:\n",
    "        if i not in (' '):\n",
    "            i=chr(ord(i)+5)\n",
    "            result+=i\n",
    "        elif i ==' ':\n",
    "            result+=' '\n",
    "        elif i=='.':\n",
    "            result+='.'\n",
    "        else:\n",
    "            result+=','\n",
    "    contents.insert(INSERT, result)\n",
    "\n",
    "entry_value = StringVar(window, value=msg)\n",
    "entry_enc = Entry(window, textvariable=entry_value)\n",
    "entry_enc.place(x=10, y=30, width=320, height=150)\n",
    "\n",
    "btn_dec = Button(window, text = '해독', command=decode, overrelief=\"solid\", width=40, height=2, bg=\"#819FF7\")\n",
    "btn_dec.place(x=10, y=200, width=320, height=40)\n",
    "\n",
    "contents = tkst.ScrolledText(window, width=33, height=3, wrap=WORD)\n",
    "contents.place(x=10, y=260, width=320, height=150)\n",
    "\n",
    "btn_list = Button(window, text = '편지목록', command=decode, overrelief=\"solid\", width=10, height=2, bg=\"#819FF7\")\n",
    "btn_list.place(x=10, y=430, width=100, height=40)\n",
    "\n",
    "btn_write = Button(window, text = '답장하기', command=decode, overrelief=\"solid\", width=10, height=2, bg=\"#819FF7\")\n",
    "btn_write.place(x=230, y=430, width=100, height=40)\n",
    "\n",
    "window.mainloop()"
   ]
  },
  {
   "cell_type": "code",
   "execution_count": null,
   "metadata": {},
   "outputs": [],
   "source": []
  }
 ]
}