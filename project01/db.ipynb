{
 "nbformat": 4,
 "nbformat_minor": 2,
 "metadata": {
  "language_info": {
   "name": "python",
   "codemirror_mode": {
    "name": "ipython",
    "version": 3
   },
   "version": "3.8.2-final"
  },
  "orig_nbformat": 2,
  "file_extension": ".py",
  "mimetype": "text/x-python",
  "name": "python",
  "npconvert_exporter": "python",
  "pygments_lexer": "ipython3",
  "version": 3,
  "kernelspec": {
   "name": "python38264bit316226c882d5476a8ddfb9e6e552539c",
   "display_name": "Python 3.8.2 64-bit"
  }
 },
 "cells": [
  {
   "cell_type": "code",
   "execution_count": 2,
   "metadata": {},
   "outputs": [],
   "source": [
    "from tkinter import *\n",
    "from PIL import ImageTk, Image\n",
    "import sqlite3\n",
    "\n",
    "root = Tk()\n",
    "root. title('reply')\n",
    "root.geometry(\"400x600\")\n",
    "\n",
    "conn = sqlite3.connect('reply.db')\n",
    "\n",
    "c = conn.cursor()\n",
    "\n",
    "c.execute(\"\"\"CREATE TABLE letter1 (\n",
    "        fromName text,\n",
    "        toName text,\n",
    "        address text,\n",
    "        contents text\n",
    "        )\"\"\")\n",
    "\n",
    "\n",
    "\n",
    "#커밋 변경\n",
    "conn.commit()\n",
    "\n",
    "#연결 해제\n",
    "conn.close()\n",
    "\n",
    "root.mainloop()"
   ]
  },
  {
   "cell_type": "code",
   "execution_count": null,
   "metadata": {},
   "outputs": [],
   "source": []
  }
 ]
}