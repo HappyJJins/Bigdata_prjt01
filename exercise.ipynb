{
 "nbformat": 4,
 "nbformat_minor": 2,
 "metadata": {
  "language_info": {
   "name": "python",
   "codemirror_mode": {
    "name": "ipython",
    "version": 3
   },
   "version": "3.7.4-final"
  },
  "orig_nbformat": 2,
  "file_extension": ".py",
  "mimetype": "text/x-python",
  "name": "python",
  "npconvert_exporter": "python",
  "pygments_lexer": "ipython3",
  "version": 3,
  "kernelspec": {
   "name": "python3",
   "display_name": "Python 3"
  }
 },
 "cells": [
  {
   "cell_type": "code",
   "execution_count": 20,
   "metadata": {},
   "outputs": [],
   "source": [
    "\n",
    "answers = [[1, 2, 3, 4, 5],\n",
    "            [2, 1, 2, 3, 2, 4, 2, 5],\n",
    "            [3, 3, 1, 1, 2, 2, 4, 4, 5, 5]]\n",
    "scores = [0] * len(answers)\n",
    "\n",
    "for i, arr in enumerate(answers):\n",
    "    for j, corr in enumerate(answer):\n",
    "        if corr == arr[i % len(answer)]:\n",
    "            scores[i] += 1\n",
    "[i + 1 for i, v in enumerate(s) if v == max(s)]"
   ]
  },
  {
   "cell_type": "code",
   "execution_count": 5,
   "metadata": {},
   "outputs": [
    {
     "output_type": "stream",
     "name": "stdout",
     "text": "0 [1, 2, 3, 4, 5]\n1 [2, 1, 2, 3, 2, 4, 2, 5]\n2 [3, 3, 1, 1, 2, 2, 4, 4, 5, 5]\n"
    }
   ],
   "source": [
    "p = [[1, 2, 3, 4, 5],\n",
    "    [2, 1, 2, 3, 2, 4, 2, 5],\n",
    "    [3, 3, 1, 1, 2, 2, 4, 4, 5, 5]]\n",
    "for i, name in enumerate(p):\n",
    "    print(i, name)"
   ]
  },
  {
   "cell_type": "code",
   "execution_count": 3,
   "metadata": {},
   "outputs": [
    {
     "output_type": "stream",
     "name": "stdout",
     "text": "4d93fd047780e2977f8a1c9868599ebb2bbfc29f\n"
    }
   ],
   "source": [
    "import hashlib\n",
    "text=\"abc def\"\n",
    "hashlib.sha1().update(text.encode('utf-8'))\n",
    "encText=enc.hexdigest()\n",
    "print(encText)"
   ]
  },
  {
   "cell_type": "code",
   "execution_count": 2,
   "metadata": {},
   "outputs": [
    {
     "output_type": "stream",
     "name": "stdout",
     "text": "4d93fd047780e2977f8a1c9868599ebb2bbfc29f\n"
    }
   ],
   "source": [
    "import hashlib\n",
    "text=\"abc def\"\n",
    "enc=hashlib.sha1()\n",
    "enc.update(text.encode('utf-8'))\n",
    "encText=enc.hexdigest()\n",
    "print(encText)"
   ]
  },
  {
   "cell_type": "code",
   "execution_count": null,
   "metadata": {},
   "outputs": [],
   "source": []
  }
 ]
}