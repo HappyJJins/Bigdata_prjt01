{
 "nbformat": 4,
 "nbformat_minor": 2,
 "metadata": {
  "language_info": {
   "name": "python",
   "codemirror_mode": {
    "name": "ipython",
    "version": 3
   },
   "version": "3.7.4-final"
  },
  "orig_nbformat": 2,
  "file_extension": ".py",
  "mimetype": "text/x-python",
  "name": "python",
  "npconvert_exporter": "python",
  "pygments_lexer": "ipython3",
  "version": 3,
  "kernelspec": {
   "name": "python3",
   "display_name": "Python 3"
  }
 },
 "cells": [
  {
   "cell_type": "code",
   "execution_count": null,
   "metadata": {},
   "outputs": [],
   "source": [
    "## 완주하지 못한 선수\n",
    "\n",
    "import collections\n",
    "def solution(participant, completion):\n",
    "    answer=''\n",
    "    answer=collections.Counter(participant)-collections.Counter(completion)\n",
    "    return ''.join(list(answer.keys()))"
   ]
  },
  {
   "cell_type": "code",
   "execution_count": 12,
   "metadata": {},
   "outputs": [
    {
     "output_type": "stream",
     "name": "stdout",
     "text": "[1]\n[1, 2, 3]\n"
    }
   ],
   "source": [
    "## 모의고사 풀이1\n",
    "\n",
    "def solution(answers):\n",
    "    answer = []\n",
    "    answer1=[1,2,3,4,5]\n",
    "    answer2=[2,1,2,3,2,4,2,5]\n",
    "    answer3=[3,3,1,1,2,2,4,4,5,5]\n",
    "    scores=[0,0,0]\n",
    "    for i in range(len(answers)):\n",
    "        if answer1[i]==answers[i]:\n",
    "            scores[0]+=1\n",
    "        if answer2[i]==answers[i]:\n",
    "            scores[1]+=1\n",
    "        if answer3[i]==answers[i]:\n",
    "            scores[2]+=1\n",
    "    for i, score in enumerate(scores):\n",
    "        if score==max(scores):\n",
    "            answer.append(i+1)\n",
    "    return answer"
   ]
  },
  {
   "cell_type": "code",
   "execution_count": null,
   "metadata": {},
   "outputs": [],
   "source": [
    "## 모의고사 풀이2\n",
    "\n",
    "def solution(answers):\n",
    "    answer=[]\n",
    "    thr_ans = [[1, 2, 3, 4, 5],\n",
    "                [2, 1, 2, 3, 2, 4, 2, 5],\n",
    "                [3, 3, 1, 1, 2, 2, 4, 4, 5, 5]]\n",
    "    scores = [0] * len(thr_ans)\n",
    "\n",
    "    for i, arr in enumerate(thr_ans):\n",
    "        for j, corr in enumerate(answers):\n",
    "            if corr == arr[j]:\n",
    "                scores[i] += 1\n",
    "    answer=[i + 1 for i, v in enumerate(scores) if v == max(scores)]\n",
    "    return answer"
   ]
  },
  {
   "cell_type": "code",
   "execution_count": 25,
   "metadata": {},
   "outputs": [
    {
     "output_type": "execute_result",
     "data": {
      "text/plain": "'TUE'"
     },
     "metadata": {},
     "execution_count": 25
    }
   ],
   "source": [
    "# 2016년\n",
    "def solution(a, b):\n",
    "    answer = ''\n",
    "    d=0\n",
    "    for j in range(1,a):\n",
    "        if j==2:\n",
    "            for i in range(29):\n",
    "                d+=1\n",
    "        elif j in(4,6,9,11):\n",
    "            for i in range(30):\n",
    "                d+=1\n",
    "        else:\n",
    "            for i in range(31):\n",
    "                d+=1\n",
    "    day=d+b\n",
    "    if day%7==1:\n",
    "        return 'FRI'\n",
    "    if day%7==2:\n",
    "        return 'SAT'\n",
    "    if day%7==3:\n",
    "        return 'SUN'\n",
    "    if day%7==4:\n",
    "        return 'MON'\n",
    "    if day%7==5:\n",
    "        return 'TUE'\n",
    "    if day%7==6:\n",
    "        return 'WED'\n",
    "    else:\n",
    "        return 'THU'\n",
    "\n",
    "solution(5,24)"
   ]
  },
  {
   "cell_type": "code",
   "execution_count": 24,
   "metadata": {},
   "outputs": [
    {
     "output_type": "stream",
     "name": "stdout",
     "text": "121\n145\nTUE\n"
    }
   ],
   "source": [
    "#K번째수\n",
    "def solution(array, commands):\n",
    "    answer = []\n",
    "    for i in range(len(commands)):\n",
    "        for j in range(commands[i]):\n",
    "            \n",
    "    return answer"
   ]
  },
  {
   "cell_type": "code",
   "execution_count": 14,
   "metadata": {},
   "outputs": [
    {
     "output_type": "stream",
     "name": "stdout",
     "text": "[5, 6, 3]\n"
    }
   ],
   "source": [
    "array=[1, 5, 2, 6, 3, 7, 4]\n",
    "commands=[[2, 5, 3], [4, 4, 1], [1, 7, 3]]\n",
    "answer=[]\n",
    "for i in range(len(commands)):\n",
    "    ans=[]\n",
    "    ans=array[commands[i][0]-1:commands[i][1]]\n",
    "    ans.sort()\n",
    "    answer.append(ans[commands[i][2]-1])\n",
    "print(answer)"
   ]
  },
  {
   "cell_type": "code",
   "execution_count": null,
   "metadata": {},
   "outputs": [],
   "source": [
    "# K번째 수\n",
    "def solution(array, commands):\n",
    "    answer = []\n",
    "    for i in range(len(commands)):\n",
    "        ans=[]\n",
    "        ans=array[commands[i][0]-1:commands[i][1]]\n",
    "        ans.sort()\n",
    "        answer.append(ans[commands[i][2]-1])\n",
    "    return answer"
   ]
  },
  {
   "cell_type": "code",
   "execution_count": null,
   "metadata": {},
   "outputs": [],
   "source": [
    "# 체육복\n",
    "def solution(n, lost, reserve):\n",
    "    answer = 0\n",
    "    return answer"
   ]
  },
  {
   "cell_type": "code",
   "execution_count": 24,
   "metadata": {},
   "outputs": [],
   "source": [
    "# 가운데 글자 가져오기\n",
    "\n",
    "def solution(s):\n",
    "    answer = ''\n",
    "    arr=list(str(s))\n",
    "    if len(arr)%2!=0:\n",
    "        n=int(len(arr)/2)\n",
    "        return arr[n]\n",
    "    else:\n",
    "        n=int(len(arr)/2)\n",
    "        return ''.join(arr[n-1:n+1])"
   ]
  },
  {
   "cell_type": "code",
   "execution_count": 25,
   "metadata": {},
   "outputs": [
    {
     "output_type": "execute_result",
     "data": {
      "text/plain": "[2, 3]"
     },
     "metadata": {},
     "execution_count": 25
    }
   ],
   "source": [
    "# 같은 숫자는 싫어\n",
    "\n",
    "def solution(arr):\n",
    "    answer = []\n",
    "    for i in range(len(arr)-1):\n",
    "        while \n",
    "    return answer"
   ]
  },
  {
   "cell_type": "code",
   "execution_count": 27,
   "metadata": {},
   "outputs": [
    {
     "output_type": "execute_result",
     "data": {
      "text/plain": "Counter({1: 4, 3: 2, 0: 1})"
     },
     "metadata": {},
     "execution_count": 27
    }
   ],
   "source": [
    "def solution(arr):\n",
    "    answer = []\n",
    "    for i in arr:\n",
    "        if answer[-1:] == [i]: \n",
    "             continue\n",
    "        answer.append(i)\n",
    "    return answer\n"
   ]
  },
  {
   "cell_type": "code",
   "execution_count": 29,
   "metadata": {},
   "outputs": [
    {
     "output_type": "execute_result",
     "data": {
      "text/plain": "list"
     },
     "metadata": {},
     "execution_count": 29
    }
   ],
   "source": []
  },
  {
   "cell_type": "code",
   "execution_count": null,
   "metadata": {},
   "outputs": [],
   "source": []
  }
 ]
}