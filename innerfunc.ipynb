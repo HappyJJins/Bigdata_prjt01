{
 "nbformat": 4,
 "nbformat_minor": 2,
 "metadata": {
  "language_info": {
   "name": "python",
   "codemirror_mode": {
    "name": "ipython",
    "version": 3
   },
   "version": "3.7.4-final"
  },
  "orig_nbformat": 2,
  "file_extension": ".py",
  "mimetype": "text/x-python",
  "name": "python",
  "npconvert_exporter": "python",
  "pygments_lexer": "ipython3",
  "version": 3,
  "kernelspec": {
   "name": "python3",
   "display_name": "Python 3"
  }
 },
 "cells": [
  {
   "cell_type": "code",
   "execution_count": 14,
   "metadata": {},
   "outputs": [
    {
     "output_type": "stream",
     "name": "stdout",
     "text": "하나 는 사람입니다\n둘 는 사람입니다\n셋 는 사람입니다\n3 명 사람들이 있습니다\n3 명 사람들이 있습니다\n3 인스턴스 생성\n3 명 사람들이 있습니다\n"
    }
   ],
   "source": [
    "class Person:\n",
    "    num_count=0\n",
    "    def __init__(self,name):\n",
    "        self.name=name\n",
    "        print(self.name,\"는 사람입니다\")\n",
    "        Person.num_count+=1\n",
    "\n",
    "    @staticmethod\n",
    "    def static_counter():\n",
    "        print(Person.num_count,'명 사람들이 있습니다')\n",
    "    # static_count=staticmethod(static_counter)\n",
    "\n",
    "    @classmethod\n",
    "    def class_counter(cls):\n",
    "        print(cls.num_count,'인스턴스 생성')\n",
    "    # class_count=classmethod(class_counter)\n",
    "\n",
    "a=Person('하나') #객체 만듦과 동시에 생성자 실행됨\n",
    "b=Person('둘')\n",
    "c=Person('셋')\n",
    "Person.static_counter() #매개변수(name) 필요없으므로 객체를 만들지 않고도 사용 가능\n",
    "b.static_counter() #객체 만들어서도 사용가능\n",
    "Person.class_counter() \n",
    "b.static_counter()"
   ]
  },
  {
   "cell_type": "code",
   "execution_count": 15,
   "metadata": {},
   "outputs": [
    {
     "output_type": "stream",
     "name": "stdout",
     "text": "<str_iterator object at 0x0000027D56FF7588>\ns\nt\nr\ni\nn\ng\n"
    }
   ],
   "source": [
    "#이터레이터 : 객체의 내용(리터럴)을 순서대로 가져오는것\n",
    "a = \"string\"\n",
    "b = iter(a)\n",
    "print(b)\n",
    "print(next(b))\n",
    "print(next(b))\n",
    "print(next(b))\n",
    "print(next(b))\n",
    "print(next(b))\n",
    "print(next(b))\n",
    "#print(next(b)) # 가져오는 값의 범위를 넘으면 에러남"
   ]
  },
  {
   "cell_type": "code",
   "execution_count": 16,
   "metadata": {},
   "outputs": [
    {
     "output_type": "stream",
     "name": "stdout",
     "text": "[1, 4, 9, 16, 25]\n"
    }
   ],
   "source": [
    "#제너레이터는 이터레이터를 만드는 도구\n",
    "def multi(a):\n",
    "    result = []\n",
    "    for i in a:\n",
    "        result.append(i * i)\n",
    "    return result\n",
    "a =[1, 2, 3, 4, 5]\n",
    "print(multi(a))"
   ]
  },
  {
   "cell_type": "code",
   "execution_count": 22,
   "metadata": {},
   "outputs": [
    {
     "output_type": "stream",
     "name": "stdout",
     "text": "<generator object multi1 at 0x0000027D58F7D448>\n[1, 4, 9, 16, 25]\n1\n4\n9\n16\n25\n"
    }
   ],
   "source": [
    "def multi1(a):\n",
    "    for i in a:\n",
    "        yield i * i #yeild는 연산하고, 그 값을 메모리에 저장하고, 값을 전달하지않고 next()를 실행시킨다.\n",
    "                    #사용하는 이유 메모리를 효율적으로 사용하기위해                    \n",
    "a =[1, 2, 3, 4, 5]\n",
    "print(multi1(a)) # 제너레이터라는 object가 리턴됨\n",
    "#제너레이터는 특별한 종류의 이터레이터\n",
    "print(list(multi1(a)))\n",
    "b = multi1(a)\n",
    "print(next(b)) #계속 다음번 값으로 변환됨\n",
    "print(next(b))\n",
    "print(next(b))\n",
    "print(next(b))\n",
    "print(next(b))\n",
    "#print(next(b)) # 값의 범위를벗어나서 더이상 전달할 값이 없다고 에러남\n",
    ""
   ]
  },
  {
   "cell_type": "code",
   "execution_count": null,
   "metadata": {},
   "outputs": [],
   "source": [
    "def multi(a):\n",
    "    result = []\n",
    "    for i in a:\n",
    "        result.append(i * i)\n",
    "    return result\n",
    "a = [1, 2, 3, 4, 5]\n",
    "b = multi(a)\n",
    "for i in b:\n",
    "    print(i)"
   ]
  },
  {
   "cell_type": "code",
   "execution_count": 23,
   "metadata": {},
   "outputs": [
    {
     "output_type": "error",
     "ename": "NameError",
     "evalue": "name 'do_something' is not defined",
     "traceback": [
      "\u001b[1;31m---------------------------------------------------------------------------\u001b[0m",
      "\u001b[1;31mNameError\u001b[0m                                 Traceback (most recent call last)",
      "\u001b[1;32m<ipython-input-23-b246648206b6>\u001b[0m in \u001b[0;36m<module>\u001b[1;34m\u001b[0m\n\u001b[0;32m      3\u001b[0m \u001b[0mx\u001b[0m\u001b[1;33m,\u001b[0m \u001b[1;33m*\u001b[0m\u001b[0m_\u001b[0m\u001b[1;33m,\u001b[0m \u001b[0my\u001b[0m \u001b[1;33m=\u001b[0m \u001b[1;33m(\u001b[0m\u001b[1;36m1\u001b[0m\u001b[1;33m,\u001b[0m \u001b[1;36m2\u001b[0m\u001b[1;33m,\u001b[0m \u001b[1;36m3\u001b[0m\u001b[1;33m,\u001b[0m \u001b[1;36m4\u001b[0m\u001b[1;33m,\u001b[0m \u001b[1;36m5\u001b[0m\u001b[1;33m)\u001b[0m \u001b[1;31m# x = 1, y = 5\u001b[0m\u001b[1;33m\u001b[0m\u001b[1;33m\u001b[0m\u001b[0m\n\u001b[0;32m      4\u001b[0m \u001b[1;32mfor\u001b[0m \u001b[0m_\u001b[0m \u001b[1;32min\u001b[0m \u001b[0mrange\u001b[0m\u001b[1;33m(\u001b[0m\u001b[1;36m10\u001b[0m\u001b[1;33m)\u001b[0m\u001b[1;33m:\u001b[0m\u001b[1;33m\u001b[0m\u001b[1;33m\u001b[0m\u001b[0m\n\u001b[1;32m----> 5\u001b[1;33m     \u001b[0mdo_something\u001b[0m\u001b[1;33m(\u001b[0m\u001b[1;33m)\u001b[0m\u001b[1;33m\u001b[0m\u001b[1;33m\u001b[0m\u001b[0m\n\u001b[0m\u001b[0;32m      6\u001b[0m \u001b[1;32mfor\u001b[0m \u001b[0m_\u001b[0m\u001b[1;33m,\u001b[0m \u001b[0mval\u001b[0m \u001b[1;32min\u001b[0m \u001b[0mlist_of_tuple\u001b[0m\u001b[1;33m:\u001b[0m\u001b[1;33m\u001b[0m\u001b[1;33m\u001b[0m\u001b[0m\n\u001b[0;32m      7\u001b[0m     \u001b[0mdo_something\u001b[0m\u001b[1;33m(\u001b[0m\u001b[1;33m)\u001b[0m\u001b[1;33m\u001b[0m\u001b[1;33m\u001b[0m\u001b[0m\n",
      "\u001b[1;31mNameError\u001b[0m: name 'do_something' is not defined"
     ]
    }
   ],
   "source": [
    "#2. 값을 무시하고 싶은 경우\n",
    "x, _, y = (1, 2, 3) # x = 1, y = 3\n",
    "x, *_, y = (1, 2, 3, 4, 5) # x = 1, y = 5\n",
    "for _ in range(10):\n",
    "    do_something()\n",
    "for _, val in list_of_tuple:\n",
    "    do_something()"
   ]
  },
  {
   "cell_type": "code",
   "execution_count": 25,
   "metadata": {},
   "outputs": [
    {
     "output_type": "error",
     "ename": "SyntaxError",
     "evalue": "invalid syntax (<ipython-input-25-efd25b0865f0>, line 5)",
     "traceback": [
      "\u001b[1;36m  File \u001b[1;32m\"<ipython-input-25-efd25b0865f0>\"\u001b[1;36m, line \u001b[1;32m5\u001b[0m\n\u001b[1;33m    print datetime.now()\u001b[0m\n\u001b[1;37m                 ^\u001b[0m\n\u001b[1;31mSyntaxError\u001b[0m\u001b[1;31m:\u001b[0m invalid syntax\n"
     ]
    }
   ],
   "source": [
    "import datetime\n",
    "\n",
    "def main_function():\n",
    "\n",
    "     print datetime.datetime.now()\n",
    "\n",
    "     print \"MAIN FUNCTION START\"\n",
    "\n",
    "     print datetime.datetime.now()"
   ]
  },
  {
   "cell_type": "code",
   "execution_count": 1,
   "metadata": {},
   "outputs": [
    {
     "output_type": "stream",
     "name": "stdout",
     "text": "2020-04-09 13:49:47.866253\nMAIN FUNCTION 1 START\n2020-04-09 13:49:47.867256\n2020-04-09 13:49:47.867256\nMAIN FUNCTION 2 START\n2020-04-09 13:49:47.867256\n2020-04-09 13:49:47.867256\nMAIN FUNCTION 3 START\n2020-04-09 13:49:47.867256\n"
    }
   ],
   "source": [
    "import datetime\n",
    "\n",
    "class DatetimeDecorator:\n",
    "\n",
    "    def __init__(self, f):\n",
    "        self.func = f\n",
    "\n",
    "    def __call__(self, *args, **kwargs):\n",
    "        print(datetime.datetime.now())\n",
    "        self.func(*args, **kwargs)\n",
    "        print(datetime.datetime.now())\n",
    "\n",
    "class MainClass:\n",
    "    \n",
    "    @staticmethod\n",
    "    @DatetimeDecorator\n",
    "# a = DatetimeDecorator(MainClass.main_function_1)   ┐   두 줄을 위의 한 문장으로 줄여서 사용이 가능함.\n",
    "# a.__call__()                                       ┘\n",
    "    def main_function_1():\n",
    "        print(\"MAIN FUNCTION 1 START\")\n",
    "    # main_function_1 = staticmethod(main_function_1)\n",
    "\n",
    "    @staticmethod\n",
    "    @DatetimeDecorator\n",
    "    def main_function_2():\n",
    "        print(\"MAIN FUNCTION 2 START\")\n",
    "\n",
    "    @staticmethod\n",
    "    @DatetimeDecorator\n",
    "    def main_function_3():\n",
    "        print(\"MAIN FUNCTION 3 START\")\n",
    "\n",
    "my = MainClass()\n",
    "\n",
    "my.main_function_1()\n",
    "my.main_function_2()\n",
    "my.main_function_3()"
   ]
  },
  {
   "cell_type": "code",
   "execution_count": 1,
   "metadata": {},
   "outputs": [
    {
     "output_type": "stream",
     "name": "stdout",
     "text": "0 body\n1 foo\n2 bar\n"
    }
   ],
   "source": [
    "for i, name in enumerate(['body','foo','bar']):\n",
    "    print(i,name)"
   ]
  },
  {
   "cell_type": "code",
   "execution_count": 3,
   "metadata": {},
   "outputs": [
    {
     "output_type": "execute_result",
     "data": {
      "text/plain": "(1, 1)"
     },
     "metadata": {},
     "execution_count": 3
    }
   ],
   "source": [
    "print(eval('1+2'))\n",
    "print(eval(\"'hi'+'a'\"))\n",
    "print(eval('divmod(4,3)'))"
   ]
  },
  {
   "cell_type": "code",
   "execution_count": null,
   "metadata": {},
   "outputs": [],
   "source": []
  }
 ]
}