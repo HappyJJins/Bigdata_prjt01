{
 "nbformat": 4,
 "nbformat_minor": 2,
 "metadata": {
  "language_info": {
   "name": "python",
   "codemirror_mode": {
    "name": "ipython",
    "version": 3
   },
   "version": "3.7.4-final"
  },
  "orig_nbformat": 2,
  "file_extension": ".py",
  "mimetype": "text/x-python",
  "name": "python",
  "npconvert_exporter": "python",
  "pygments_lexer": "ipython3",
  "version": 3,
  "kernelspec": {
   "name": "python3",
   "display_name": "Python 3"
  }
 },
 "cells": [
  {
   "cell_type": "code",
   "execution_count": 1,
   "metadata": {},
   "outputs": [
    {
     "output_type": "stream",
     "name": "stdout",
     "text": "['f', 'g', 'h', ' ', 'i', 'j', 'k']\na69f0a6eabf17af1a918a546671c7f8f\n4d93fd047780e2977f8a1c9868599ebb2bbfc29f\n15\n5\n2.0\n50\n"
    }
   ],
   "source": [
    "from mod_code import *\n",
    "\n",
    "text='abc def'\n",
    "cls1=Code(text)\n",
    "print(cls1.Ciser())\n",
    "print(cls1.MD5())\n",
    "print(cls1.Sha1())\n",
    "\n",
    "num1,num2=10,5\n",
    "cls2=Cal(num1,num2)\n",
    "print(cls2.add())\n",
    "print(cls2.sub())\n",
    "print(cls2.div())\n",
    "print(cls2.mul())"
   ]
  },
  {
   "cell_type": "code",
   "execution_count": null,
   "metadata": {},
   "outputs": [],
   "source": [
    "print(1)"
   ]
  },
  {
   "cell_type": "code",
   "execution_count": null,
   "metadata": {},
   "outputs": [],
   "source": []
  }
 ]
}