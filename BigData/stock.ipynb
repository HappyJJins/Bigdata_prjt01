{
 "nbformat": 4,
 "nbformat_minor": 2,
 "metadata": {
  "language_info": {
   "name": "python",
   "codemirror_mode": {
    "name": "ipython",
    "version": 3
   },
   "version": "3.8.2-final"
  },
  "orig_nbformat": 2,
  "file_extension": ".py",
  "mimetype": "text/x-python",
  "name": "python",
  "npconvert_exporter": "python",
  "pygments_lexer": "ipython3",
  "version": 3,
  "kernelspec": {
   "name": "python38264bit316226c882d5476a8ddfb9e6e552539c",
   "display_name": "Python 3.8.2 64-bit"
  }
 },
 "cells": [
  {
   "cell_type": "code",
   "execution_count": 7,
   "metadata": {},
   "outputs": [
    {
     "output_type": "execute_result",
     "data": {
      "text/plain": "        name    code\n0        DSR  155660\n1         GS  078930\n2      GS글로벌  001250\n3  HDC현대산업개발  294870\n4      LG이노텍  011070",
      "text/html": "<div>\n<style scoped>\n    .dataframe tbody tr th:only-of-type {\n        vertical-align: middle;\n    }\n\n    .dataframe tbody tr th {\n        vertical-align: top;\n    }\n\n    .dataframe thead th {\n        text-align: right;\n    }\n</style>\n<table border=\"1\" class=\"dataframe\">\n  <thead>\n    <tr style=\"text-align: right;\">\n      <th></th>\n      <th>name</th>\n      <th>code</th>\n    </tr>\n  </thead>\n  <tbody>\n    <tr>\n      <th>0</th>\n      <td>DSR</td>\n      <td>155660</td>\n    </tr>\n    <tr>\n      <th>1</th>\n      <td>GS</td>\n      <td>078930</td>\n    </tr>\n    <tr>\n      <th>2</th>\n      <td>GS글로벌</td>\n      <td>001250</td>\n    </tr>\n    <tr>\n      <th>3</th>\n      <td>HDC현대산업개발</td>\n      <td>294870</td>\n    </tr>\n    <tr>\n      <th>4</th>\n      <td>LG이노텍</td>\n      <td>011070</td>\n    </tr>\n  </tbody>\n</table>\n</div>"
     },
     "metadata": {},
     "execution_count": 7
    }
   ],
   "source": [
    "import pandas as pd\n",
    "\n",
    "code_df=pd.read_html('http://kind.krx.co.kr/corpgeneral/corpList.do?method=download&searchType=13',header=0)[0]\n",
    "# print(type(code_df))\n",
    "# print(code_df.head())\n",
    "\n",
    "# # 종목코드가 6자리이기 때문에 6자리를 맞춰주기 위해 설정해줌\n",
    "code_df.종목코드=code_df.종목코드.map('{:06d}'.format)\n",
    "code_df=code_df[['회사명','종목코드']]\n",
    "code_df=code_df.rename(columns={'회사명':'name','종목코드':'code'})\n",
    "code_df.head()"
   ]
  },
  {
   "cell_type": "code",
   "execution_count": 14,
   "metadata": {},
   "outputs": [
    {
     "output_type": "stream",
     "name": "stdout",
     "text": "0                 1       2   3\n0 NaN          »ï¼ºÀüÀÚ   51500 NaN\n1 NaN            ÇÑÁøÄ®  110500 NaN\n2 NaN          ±¹ÀÏÁ¦Áö    6860 NaN\n3 NaN          ´ëÇÑÇ×°ø   21400 NaN\n4 NaN  »ï¼º¹ÙÀÌ¿À·ÎÁ÷½º  559000 NaN\n"
    }
   ],
   "source": []
  },
  {
   "cell_type": "code",
   "execution_count": null,
   "metadata": {},
   "outputs": [],
   "source": []
  }
 ]
}