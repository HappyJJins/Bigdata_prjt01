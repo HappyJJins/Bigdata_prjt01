{
 "cells": [
  {
   "cell_type": "code",
   "execution_count": null,
   "metadata": {},
   "outputs": [],
   "source": [
    "re.findall() : 모든일치 항목이 포함된 문자열 목록을 반환"
   ]
  },
  {
   "cell_type": "code",
   "execution_count": 1,
   "metadata": {},
   "outputs": [
    {
     "output_type": "stream",
     "name": "stdout",
     "text": "<class 'list'>\n[]\n"
    }
   ],
   "source": [
    "import re\n",
    "string='hello 12 hi 89. Howdy 34'\n",
    "pattern='\\d+'\n",
    "result=re.findall(pattern, string)\n",
    "print(type(result))\n",
    "print(result)"
   ]
  },
  {
   "cell_type": "code",
   "execution_count": null,
   "metadata": {},
   "outputs": [],
   "source": [
    "re.split() : 일치하는 문자열을 분할하고 분할이 발생한 문자열 목록을 반환\n",
    "# 패턴을 찾을 수 없으면 반문자열이 포함된 목록을 반환"
   ]
  },
  {
   "cell_type": "code",
   "execution_count": null,
   "metadata": {},
   "outputs": [],
   "source": [
    "import re\n",
    "string='hello 12 hi 89. Howdy 34'\n",
    "pattern='\\d+'\n",
    "result=re.split(pattern, string)\n",
    "print(type(result))\n",
    "print(result)"
   ]
  },
  {
   "cell_type": "code",
   "execution_count": 2,
   "metadata": {},
   "outputs": [
    {
     "output_type": "stream",
     "name": "stdout",
     "text": "<class 'list'>\n['hello ', ' hi 89. Howdy 34']\n"
    }
   ],
   "source": [
    "import re\n",
    "string='hello 12 hi 89. Howdy 34'\n",
    "pattern='\\d+'\n",
    "maxsplit=1\n",
    "result=re.split(pattern, string, maxsplit)\n",
    "print(type(result))\n",
    "print(result)"
   ]
  },
  {
   "cell_type": "code",
   "execution_count": 4,
   "metadata": {},
   "outputs": [
    {
     "output_type": "stream",
     "name": "stdout",
     "text": "abc12\\de23f456\n"
    }
   ],
   "source": [
    "import re\n",
    "\n",
    "string='abc 12\\ de 23 \\n f45 6'\n",
    "pattern='\\s+'\n",
    "replace=''\n",
    "new_string=re.sub(pattern, replace, string)\n",
    "print(new_string)"
   ]
  },
  {
   "cell_type": "code",
   "execution_count": 5,
   "metadata": {},
   "outputs": [
    {
     "output_type": "stream",
     "name": "stdout",
     "text": "abc12\\de23f456\n"
    }
   ],
   "source": [
    "import re\n",
    "string='abc 12\\ de 23 \\n f45 6'\n",
    "pattern='\\s+'\n",
    "replace=''\n",
    "new_string=re.sub(pattern, replace, string)\n",
    "print(new_string)"
   ]
  },
  {
   "cell_type": "code",
   "execution_count": null,
   "metadata": {},
   "outputs": [],
   "source": [
    "re.subn() : 새로운 캐릭터와 만든 대체의 수를 포함하는 2개 항목의 튜플을 반환"
   ]
  },
  {
   "cell_type": "code",
   "execution_count": 13,
   "metadata": {},
   "outputs": [
    {
     "output_type": "stream",
     "name": "stdout",
     "text": "('abc12\\\\de23f456', 5)\n"
    }
   ],
   "source": [
    "import re\n",
    "\n",
    "string='abc 12\\ de 23 \\n f45 6'\n",
    "pattern='\\s+'\n",
    "replace=''\n",
    "new_string=re.subn(pattern, replace, string)\n",
    "print(new_string)"
   ]
  },
  {
   "cell_type": "code",
   "execution_count": null,
   "metadata": {},
   "outputs": [],
   "source": [
    "re.search() : 패턴과 문자열 두 인수를 사용하며, 패턴이 문자열과 일치하는 첫번째 위치를 찾음\n",
    "dir()함수를 사용하여 일치하는 오브젝트의 메소드 및 속성을 얻을 수 있음"
   ]
  },
  {
   "cell_type": "code",
   "execution_count": 8,
   "metadata": {},
   "outputs": [
    {
     "output_type": "stream",
     "name": "stdout",
     "text": "no Founding\n"
    }
   ],
   "source": [
    "import re\n",
    "string='abc 12\\ de 23 \\n f45 6'\n",
    "match=re.search('\\APython',string)\n",
    "if match:\n",
    "    print('Founding')\n",
    "else :\n",
    "    print('no Founding')"
   ]
  },
  {
   "cell_type": "code",
   "execution_count": 24,
   "metadata": {},
   "outputs": [
    {
     "output_type": "stream",
     "name": "stdout",
     "text": "no Founding\n"
    }
   ],
   "source": [
    "import re\n",
    "string=\"Python is fun\"\n",
    "match=re.search('\\Apython', string)\n",
    "if match:\n",
    "    print('Founding')\n",
    "else:\n",
    "    print('no Founding')"
   ]
  },
  {
   "cell_type": "code",
   "execution_count": 25,
   "metadata": {},
   "outputs": [
    {
     "output_type": "stream",
     "name": "stdout",
     "text": "801 35\n"
    }
   ],
   "source": [
    "import re\n",
    "string='39801 356, 2102 1111'\n",
    "pattern='(\\d{3}) (\\d{2})'\n",
    "match=re.search(pattern, string)\n",
    "if match:\n",
    "    print(match.group())\n",
    "else:\n",
    "    print('no pattern')"
   ]
  },
  {
   "cell_type": "code",
   "execution_count": 16,
   "metadata": {},
   "outputs": [
    {
     "output_type": "execute_result",
     "data": {
      "text/plain": "'801'"
     },
     "metadata": {},
     "execution_count": 16
    }
   ],
   "source": [
    "match.group(1)"
   ]
  },
  {
   "cell_type": "code",
   "execution_count": 17,
   "metadata": {},
   "outputs": [
    {
     "output_type": "execute_result",
     "data": {
      "text/plain": "('801', '35')"
     },
     "metadata": {},
     "execution_count": 17
    }
   ],
   "source": [
    "match.group(1,2)"
   ]
  },
  {
   "cell_type": "code",
   "execution_count": 18,
   "metadata": {},
   "outputs": [
    {
     "output_type": "execute_result",
     "data": {
      "text/plain": "('801', '35')"
     },
     "metadata": {},
     "execution_count": 18
    }
   ],
   "source": [
    "match.groups()"
   ]
  },
  {
   "cell_type": "code",
   "execution_count": 19,
   "metadata": {},
   "outputs": [
    {
     "output_type": "execute_result",
     "data": {
      "text/plain": "2"
     },
     "metadata": {},
     "execution_count": 19
    }
   ],
   "source": [
    "match.start()"
   ]
  },
  {
   "cell_type": "code",
   "execution_count": 20,
   "metadata": {},
   "outputs": [
    {
     "output_type": "execute_result",
     "data": {
      "text/plain": "8"
     },
     "metadata": {},
     "execution_count": 20
    }
   ],
   "source": [
    "match.end()"
   ]
  },
  {
   "cell_type": "code",
   "execution_count": 21,
   "metadata": {},
   "outputs": [
    {
     "output_type": "execute_result",
     "data": {
      "text/plain": "(2, 8)"
     },
     "metadata": {},
     "execution_count": 21
    }
   ],
   "source": [
    "match.span()"
   ]
  },
  {
   "cell_type": "code",
   "execution_count": 22,
   "metadata": {},
   "outputs": [
    {
     "output_type": "execute_result",
     "data": {
      "text/plain": "re.compile(r'(\\d{3}) (\\d{2})', re.UNICODE)"
     },
     "metadata": {},
     "execution_count": 22
    }
   ],
   "source": [
    "match.re"
   ]
  },
  {
   "cell_type": "code",
   "execution_count": 23,
   "metadata": {},
   "outputs": [
    {
     "output_type": "execute_result",
     "data": {
      "text/plain": "'39801 356, 2102 1111'"
     },
     "metadata": {},
     "execution_count": 23
    }
   ],
   "source": [
    "match.string"
   ]
  },
  {
   "cell_type": "code",
   "execution_count": 11,
   "metadata": {},
   "outputs": [
    {
     "output_type": "stream",
     "name": "stdout",
     "text": "['\\n', '\\r']\n"
    }
   ],
   "source": [
    "import re\n",
    "string='\\n and \\r are ecape sequences.'\n",
    "result=re.findall(r'[\\n\\r]',string)\n",
    "print(result)"
   ]
  },
  {
   "cell_type": "code",
   "execution_count": 12,
   "metadata": {},
   "outputs": [
    {
     "output_type": "stream",
     "name": "stdout",
     "text": "Cats are smarter than dogs\nCats\nsmarter\nCats are smarter than dogs\n"
    }
   ],
   "source": [
    "import re\n",
    "string=\"Cats are smarter than dogs\"\n",
    "matchobj=re.match(r'(.*) are (.*?) .*', string, re.M|re.I)\n",
    "if matchobj:\n",
    "    print(matchobj.group())\n",
    "    print(matchobj.group(1))\n",
    "    print(matchobj.group(2))\n",
    "    print(matchobj.group())\n",
    "else :\n",
    "    print('no match')"
   ]
  },
  {
   "cell_type": "code",
   "execution_count": null,
   "metadata": {},
   "outputs": [],
   "source": []
  }
 ],
 "metadata": {
  "language_info": {
   "codemirror_mode": {
    "name": "ipython",
    "version": 3
   },
   "file_extension": ".py",
   "mimetype": "text/x-python",
   "name": "python",
   "nbconvert_exporter": "python",
   "pygments_lexer": "ipython3",
   "version": "3.8.2-final"
  },
  "orig_nbformat": 2,
  "kernelspec": {
   "name": "python38264bit316226c882d5476a8ddfb9e6e552539c",
   "display_name": "Python 3.8.2 64-bit"
  }
 },
 "nbformat": 4,
 "nbformat_minor": 2
}