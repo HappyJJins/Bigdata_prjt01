{
 "nbformat": 4,
 "nbformat_minor": 2,
 "metadata": {
  "language_info": {
   "name": "python",
   "codemirror_mode": {
    "name": "ipython",
    "version": 3
   },
   "version": "3.8.2-final"
  },
  "orig_nbformat": 2,
  "file_extension": ".py",
  "mimetype": "text/x-python",
  "name": "python",
  "npconvert_exporter": "python",
  "pygments_lexer": "ipython3",
  "version": 3,
  "kernelspec": {
   "name": "python38264bit316226c882d5476a8ddfb9e6e552539c",
   "display_name": "Python 3.8.2 64-bit"
  }
 },
 "cells": [
  {
   "cell_type": "code",
   "execution_count": 11,
   "metadata": {},
   "outputs": [],
   "source": [
    "import pandas as pd\n",
    "import numpy as np\n",
    "from io import StringIO\n",
    "\n",
    "url = 'https://www.fdic.gov/bank/individual/failed/banklist.html'\n",
    "df = pd.read_html(url)\n",
    "# print(type(df))\n",
    "# print(len(df)) #몇 개의 데이터프레임으로 저장되어 있는지 확인\n",
    "# print(df[0])\n",
    "# print(type(df[0])) #데이터프레임\n",
    "df[0].to_csv('bank.csv') #csv로 저장\n",
    "# pd.read_csv(df[0])\n",
    "# print(df)\n",
    "\n",
    "df1=pd.DataFrame(df)\n",
    "df1.dtypes\n",
    "df1.to_html('tmp.scv')\n",
    "df1.to_hdf('hdf5.h5',key='df5')"
   ]
  },
  {
   "cell_type": "code",
   "execution_count": null,
   "metadata": {},
   "outputs": [],
   "source": [
    "정규표현식\n",
    "일정한 패턴에서 특수 구문을 사용해서 다른 문자열이나 문자열의 집합을 찾는데 도움이 됨\n",
    "정규표현식은 Linux에서 널리 사용\n",
    "파이썬과 펄은 정규표현식을 완벽하게 지원\n",
    "실행시 정규표현식을 사용하는 동안 오류가 발생하면 re모듈은 예외 re.error를 발생시킴"
   ]
  },
  {
   "cell_type": "code",
   "execution_count": null,
   "metadata": {},
   "outputs": [],
   "source": [
    "^a...s$\n",
    "abs #no match\n",
    "alias #match\n",
    "abyss #match\n",
    "Alias #no match\n",
    "An abacus #no match"
   ]
  },
  {
   "cell_type": "code",
   "execution_count": 3,
   "metadata": {},
   "outputs": [
    {
     "output_type": "stream",
     "name": "stdout",
     "text": "sucess\n"
    }
   ],
   "source": [
    "import re\n",
    "pattern='^a...s$'\n",
    "test_string='abyss'\n",
    "result=re.match(pattern, test_string)\n",
    "if result :\n",
    "    print('sucess')\n",
    "else :\n",
    "    print('fail')"
   ]
  },
  {
   "cell_type": "code",
   "execution_count": null,
   "metadata": {},
   "outputs": [],
   "source": [
    "match characters\n",
    "[].^$*+?{}\\|\n",
    "[]:square brackets\n",
    "    [abc]\n",
    "    a : 1 match\n",
    "    ac : 2 match\n",
    "    hey jude : no match\n",
    "    abc de ca : 5 match\n",
    "    [a-e] : [abcde] #-대신 :쓰면 안됨\n",
    "    [1-4] : [1,2,3,4]\n",
    "    [^abc] : a 또는 b 또는 c\n",
    "  :period\n",
    "    ..\n",
    "    a : no match\n",
    "    ac : 1 match\n",
    "    acd : 1 match\n",
    "    acde : 2 match\n",
    "^ : caret\n",
    "    ^a\n",
    "    a : 1 match\n",
    "    abc : 1 match\n",
    "    bac : no match\n",
    "    ^ab\n",
    "    abc : 1 match\n",
    "    acb : no match\n",
    "$ : dollar\n",
    "  a$\n",
    "  a : 1 match\n",
    "  fomula : 1 match\n",
    "  cab : no match\n",
    "* : star(남은 패턴이 0개 이상 일치하는 것)\n",
    "  ma*n\n",
    "  mn : 1 match\n",
    "  man : 1 match\n",
    "  maaan : 1 match\n",
    "  main : no match\n",
    "  woman : 1 match\n",
    "+ : plus\n",
    "  ma+n\n",
    "  mn : no match\n",
    "  man : 1 match\n",
    "  maaan : 1 match\n",
    "  main : no match\n",
    "  woman : 1 match\n",
    "? : question mark\n",
    "  ma?n(0개 또는 1개 일치)\n",
    "  mn : 1 match\n",
    "  man : 1 match\n",
    "  maaan : no match\n",
    "  main : no match\n",
    "  woman : 1 match\n",
    "{} : Braces\n",
    "  a{2,3} : 최소 a가 2개 이거나 최대 3개인 것\n",
    "  abc dat : no match\n",
    "  abc daat : 1 match\n",
    "  aabc daaat : 2 match\n",
    "  aabc daaaat : 2 match\n",
    "  aabc daaa aat : 3 match\n",
    "  aabc daaa1aat : 3 match\n",
    "\n",
    "응용\n",
    "[0-9]{2,4}\n",
    "ab123csde : 1 match\n",
    "12 and 345673 : 2 match\n",
    "\n",
    "| : Alternation\n",
    "  a|b\n",
    "  cde : no match\n",
    "  ade : 1 match\n",
    "  acdbea : 3 match\n",
    "\n",
    "() : Group\n",
    "  (a|b|c)xz\n",
    "  ab xz : no match\n",
    "  abxz : 1 match\n",
    "  axz cabxz : 2 match"
   ]
  }
 ]
}