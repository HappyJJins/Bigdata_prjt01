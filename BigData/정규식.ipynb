{
 "nbformat": 4,
 "nbformat_minor": 2,
 "metadata": {
  "language_info": {
   "name": "python",
   "codemirror_mode": {
    "name": "ipython",
    "version": 3
   },
   "version": "3.8.2-final"
  },
  "orig_nbformat": 2,
  "file_extension": ".py",
  "mimetype": "text/x-python",
  "name": "python",
  "npconvert_exporter": "python",
  "pygments_lexer": "ipython3",
  "version": 3,
  "kernelspec": {
   "name": "python38264bit316226c882d5476a8ddfb9e6e552539c",
   "display_name": "Python 3.8.2 64-bit"
  }
 },
 "cells": [
  {
   "cell_type": "code",
   "execution_count": 2,
   "metadata": {},
   "outputs": [
    {
     "output_type": "stream",
     "name": "stdout",
     "text": "<re.Match object; span=(0, 1), match='a'>\n<re.Match object; span=(0, 1), match='b'>\nNone\n"
    }
   ],
   "source": [
    "# 2-1-1. 문자 클래스\n",
    "\n",
    "import re\n",
    "\n",
    "# 정규식 문자열 앞에 r이 붙는 이유는 백슬래쉬를 문자 그대로 활용하기 위해서이다.\n",
    "\n",
    "# 예로 들어 \\n이 개행을 의미하는데 '\\naver'를 그대로 사용하고 싶다면 앞에 r을 붙여\n",
    "\n",
    "# 날 문자열(raw string) 표기법을 사용하는 것이다.\n",
    "\n",
    "# 간단하게, 정규식 문자열은 앞에 r을 붙이고 사용한다고 암기하면 된다.\n",
    "p = re.compile(r'[ab]')\n",
    "m1 = p.match('aaa')\n",
    "m2 = p.match('bbb')\n",
    "m3 = p.match('ccc')\n",
    "print(m1)\n",
    "print(m2)\n",
    "print(m3)"
   ]
  },
  {
   "cell_type": "code",
   "execution_count": 3,
   "metadata": {},
   "outputs": [
    {
     "output_type": "stream",
     "name": "stdout",
     "text": "<re.Match object; span=(0, 1), match='\\\\'>\n<re.Match object; span=(0, 1), match='\\\\'>\nNone\n<re.Match object; span=(0, 2), match='\\\\\\\\'>\n"
    }
   ],
   "source": [
    "# 이해가 안되더라도 그냥 넘어가면 된다.\n",
    "p = re.compile('\\\\\\\\')    # 백슬래쉬 2개를 의미.\n",
    "m1 = p.match('\\\\')\n",
    "m2 = p.match('\\\\\\\\')\n",
    "print(m1)\n",
    "print(m2)\n",
    "\n",
    "p = re.compile(r'\\\\\\\\')    # 백슬래쉬 4개를 문자열 그대로 사용한다는 의미.\n",
    "m1 = p.match('\\\\')\n",
    "m2 = p.match('\\\\\\\\')\n",
    "print(m1)\n",
    "print(m2)"
   ]
  },
  {
   "cell_type": "code",
   "execution_count": 4,
   "metadata": {},
   "outputs": [
    {
     "output_type": "stream",
     "name": "stdout",
     "text": "<re.Match object; span=(0, 3), match='a1b'>\nNone\n"
    }
   ],
   "source": [
    "# 2-1-2. Dot\n",
    "# 줄바꿈문자인 \\n을 제외한 모든 문자와 매치한다.\n",
    "\n",
    "p = re.compile(r'a.b')\n",
    "m1 = p.match('a1b')\n",
    "m2 = p.match('a\\nb')\n",
    "print(m1)\n",
    "print(m2)"
   ]
  },
  {
   "cell_type": "code",
   "execution_count": 5,
   "metadata": {},
   "outputs": [
    {
     "output_type": "stream",
     "name": "stdout",
     "text": "<re.Match object; span=(0, 0), match=''>\n<re.Match object; span=(0, 15), match='aaaaaaaaaaaaaaa'>\n"
    }
   ],
   "source": [
    "# 2-1-3. 반복\n",
    "# 선행 문자가 0회 이상 반복될 때 매치한다\n",
    "\n",
    "p = re.compile(r'a*')\n",
    "m1 = p.match('')\n",
    "m2 = p.match('aaaaaaaaaaaaaaa')\n",
    "print(m1)   # 매치되었지만, 매치된 문자열은 빈 문자열.\n",
    "print(m2)"
   ]
  },
  {
   "cell_type": "code",
   "execution_count": 6,
   "metadata": {},
   "outputs": [
    {
     "output_type": "stream",
     "name": "stdout",
     "text": "None\n<re.Match object; span=(0, 1), match='a'>\n<re.Match object; span=(0, 15), match='aaaaaaaaaaaaaaa'>\n"
    }
   ],
   "source": [
    "# 2-1-4. 반복 +\n",
    "# 선행 문자가 1회 이상 반복된 것과 매치한다\n",
    "\n",
    "p = re.compile(r'[a]+')\n",
    "m1 = p.match('')\n",
    "m2 = p.match('a')\n",
    "m3 = p.match('aaaaaaaaaaaaaaa')\n",
    "print(m1)\n",
    "print(m2)\n",
    "print(m3)"
   ]
  },
  {
   "cell_type": "code",
   "execution_count": 7,
   "metadata": {},
   "outputs": [
    {
     "output_type": "stream",
     "name": "stdout",
     "text": "<re.Match object; span=(0, 5), match='ccccc'>\n<re.Match object; span=(0, 5), match='aaaaa'>\n"
    }
   ],
   "source": [
    "# 2-1-5. 반복 {m}\n",
    "# 선행 문자가 m번 반복된 것과 매치한다.\n",
    "\n",
    "p = re.compile(r'[abc]{5}')\n",
    "m1 = p.match('ccccc')\n",
    "m2 = p.match('aaaaaa')\n",
    "print(m1)\n",
    "print(m2)    # a 하나가 남게 된다."
   ]
  },
  {
   "cell_type": "code",
   "execution_count": 8,
   "metadata": {},
   "outputs": [
    {
     "output_type": "stream",
     "name": "stdout",
     "text": "<re.Match object; span=(0, 2), match='cc'>\n<re.Match object; span=(0, 5), match='aaaaa'>\n"
    }
   ],
   "source": [
    "# 2-1-6. 반복 {m, n}\n",
    "# 선행 문자가 m~n번 반복된 것과 매치한다. 가능한 한 많은 매치.\n",
    "\n",
    "p = re.compile(r'[abc]{2,5}')\n",
    "m1 = p.match('cc')\n",
    "m2 = p.match('aaaaa')\n",
    "print(m1)\n",
    "print(m2)"
   ]
  },
  {
   "cell_type": "code",
   "execution_count": 9,
   "metadata": {},
   "outputs": [
    {
     "output_type": "stream",
     "name": "stdout",
     "text": "<re.Match object; span=(0, 2), match='cc'>\n<re.Match object; span=(0, 2), match='aa'>\n"
    }
   ],
   "source": [
    "# 2-1-7. 반복 {m, n}?\n",
    "# 반복 {m, n}과 유사하지만, 가능한 한 적은 문자와 매치한다.\n",
    "\n",
    "p = re.compile(r'[abc]{2,5}?')\n",
    "m1 = p.match('cc')\n",
    "m2 = p.match('aaaaa')\n",
    "print(m1)\n",
    "print(m2)"
   ]
  },
  {
   "cell_type": "code",
   "execution_count": 10,
   "metadata": {},
   "outputs": [
    {
     "output_type": "stream",
     "name": "stdout",
     "text": "<re.Match object; span=(0, 2), match='ac'>\n<re.Match object; span=(0, 3), match='abc'>\n"
    }
   ],
   "source": [
    "# 2-1-8. 유무 ?\n",
    "# 선행 문자가 있어도 없어도 매치된다.\n",
    "\n",
    "p = re.compile(r'ab?c')\n",
    "m1 = p.match('ac')\n",
    "m2 = p.match('abc')\n",
    "print(m1)\n",
    "print(m2)"
   ]
  },
  {
   "cell_type": "code",
   "execution_count": 11,
   "metadata": {},
   "outputs": [
    {
     "output_type": "stream",
     "name": "stdout",
     "text": "<re.Match object; span=(0, 3), match='abc'>\n<re.Match object; span=(0, 3), match='123'>\n"
    }
   ],
   "source": [
    "# 2-1-9. OR을 의미하는 |\n",
    "\n",
    "p = re.compile(r'abc|123')\n",
    "m1 = p.match('abc')\n",
    "m2 = p.match('123')\n",
    "print(m1)\n",
    "print(m2)"
   ]
  },
  {
   "cell_type": "code",
   "execution_count": 12,
   "metadata": {},
   "outputs": [
    {
     "output_type": "stream",
     "name": "stdout",
     "text": "<re.Match object; span=(0, 4), match='Life'>\nNone\n"
    }
   ],
   "source": [
    "# 2-1-10. 문자열의 처음을 의미하는 ^\n",
    "# 문자열 클래스([]) 내에서는 not의 의미를 지니기 때문에 유의하자.\n",
    "# 문자열의 맨 처음과 일치함을 의미한다.\n",
    "\n",
    "p = re.compile(r'^Life')\n",
    "m1 = p.search('Life is too short')\n",
    "m2 = p.search('My Life')\n",
    "print(m1)\n",
    "print(m2)    # 문자열의 처음과 매치되지 않는다."
   ]
  },
  {
   "cell_type": "code",
   "execution_count": 13,
   "metadata": {},
   "outputs": [
    {
     "output_type": "stream",
     "name": "stdout",
     "text": "None\n<re.Match object; span=(3, 7), match='Life'>\n"
    }
   ],
   "source": [
    "# 2-1-11. 문자열의 끝을 의미하는 $\n",
    "# 문자열의 끝과 일치함을 의미한다.\n",
    "\n",
    "p = re.compile(r'Life$')\n",
    "m1 = p.search('Life is too short')\n",
    "m2 = p.search('My Life')\n",
    "print(m1)    # 문자열의 끝과 매치되지 않는다.\n",
    "print(m2)"
   ]
  },
  {
   "cell_type": "code",
   "execution_count": 14,
   "metadata": {},
   "outputs": [
    {
     "output_type": "stream",
     "name": "stdout",
     "text": "['Life']\n"
    }
   ],
   "source": [
    "# 2-1-12. 오로지 문자열 전체의 처음만을 의미하는 \\A\n",
    "# re.MULTILINE을 적용하더라도 오로지 전체 문자열의 처음과만 매치된다.(추후 나옴)\n",
    "\n",
    "data = \"\"\"Life is too short\n",
    "Life...\"\"\"\n",
    "\n",
    "p = re.compile(r'\\ALife', re.MULTILINE)\n",
    "m = p.findall(data)\n",
    "print(m)    # 전체 문자열의 처음과만 매치된다."
   ]
  },
  {
   "cell_type": "code",
   "execution_count": 15,
   "metadata": {},
   "outputs": [
    {
     "output_type": "stream",
     "name": "stdout",
     "text": "['python']\n"
    }
   ],
   "source": [
    "# 2-1-13. 오로지 문자열 전체의 끝만을 의미하는 \\Z\n",
    "# re.MULTILINE을 적용하더라도 오로지 전체 문자열의 끝과만 매치된다.(추후 나옴)\n",
    "\n",
    "data = \"\"\"one python\n",
    "two python\"\"\"\n",
    "\n",
    "p = re.compile(r'python\\Z', re.MULTILINE)\n",
    "m = p.findall(data)\n",
    "print(m)    # 전체 문자열의 끝과만 매치된다."
   ]
  },
  {
   "cell_type": "code",
   "execution_count": 16,
   "metadata": {},
   "outputs": [
    {
     "output_type": "stream",
     "name": "stdout",
     "text": "['thon', 'thon']\n"
    }
   ],
   "source": [
    "# 2-1-14. 공백을 의미하는 \\b\n",
    "# 주로 단어 째로 추출할 때 사용한다.\n",
    "# 단어의 앞 또는 뒤가 공백(whitespace)으로 이루어졌을 때 매치하고 싶다면 사용한다.\n",
    "# [\\t\\n\\r\\f\\v]와 동등하다.\n",
    "\n",
    "p = re.compile(r'\\bthon\\b')\n",
    "m = p.findall(\"python thon    thon\")\n",
    "print(m)    # 앞뒤가 공백으로 구성된 중간과 끝 thon만 선택된다."
   ]
  },
  {
   "cell_type": "code",
   "execution_count": 17,
   "metadata": {},
   "outputs": [
    {
     "output_type": "stream",
     "name": "stdout",
     "text": "<re.Match object; span=(2, 6), match='thon'>\n"
    }
   ],
   "source": [
    "# 2-1-15. 공백이 아님을 의미하는 \\B\n",
    "# 접목어를 추출할 때 사용한다고 이해하면 좋다.\n",
    "# 단어의 앞 또는 뒤가 공백(whitespace)으로 이루어지지 않았을 때 매치하고 싶다면 사용한다.\n",
    "# [^\\t\\n\\r\\f\\v]와 동등하다.\n",
    "\n",
    "p = re.compile(r'\\Bthon\\B')\n",
    "m = p.search(\"pythond thon thond\")\n",
    "print(m)    # 앞뒤가 공백으로 되지 않은 첫번째 문자만 매치된다."
   ]
  },
  {
   "cell_type": "code",
   "execution_count": 2,
   "metadata": {},
   "outputs": [
    {
     "output_type": "stream",
     "name": "stdout",
     "text": "<re.Match object; span=(0, 3), match='a1c'>\nNone\nNone\n<re.Match object; span=(0, 3), match='a6c'>\n"
    }
   ],
   "source": [
    "# 2-2. 문자 클래스 활용 []\n",
    "# 일치하는 문자의 종류를 쉽게 정의한다.\n",
    "# [start-end] [^start-end] \\d \\D \\s \\S \\w \\W 등이 있다.\n",
    "\n",
    "# 2-2-1. [start-end]\n",
    "# [] 내에 s-e를 넣어 s~e 사이의 문자를 의미할 수 있다.\n",
    "# [] 내에 ^...를 넣어 ...의 문자가 아닌 문자들을 의미할 수 있다.\n",
    "\n",
    "import re\n",
    "p = re.compile(r'a[1-5]c')\n",
    "m1 = p.match('a1c')\n",
    "m2 = p.match('a6c')\n",
    "print(m1)\n",
    "print(m2)   # 매치되지 않는다.\n",
    "\n",
    "p = re.compile(r'a[^1-5]c')\n",
    "m1 = p.match('a1c')\n",
    "m2 = p.match('a6c')\n",
    "print(m1)   # 매치되지 않는다.\n",
    "print(m2)"
   ]
  },
  {
   "cell_type": "code",
   "execution_count": 3,
   "metadata": {},
   "outputs": [
    {
     "output_type": "stream",
     "name": "stdout",
     "text": "None\n<re.Match object; span=(0, 3), match='a1c'>\n"
    }
   ],
   "source": [
    "# 2-2-2. 숫자 \\d\n",
    "# 숫자와 매치된다. [0-9]와 동일하다.\n",
    "\n",
    "p = re.compile(r'a\\dc')\n",
    "m1 = p.match('abc')\n",
    "m2 = p.match('a1c')\n",
    "print(m1)    # 매치되지 않는다.\n",
    "print(m2)"
   ]
  },
  {
   "cell_type": "code",
   "execution_count": null,
   "metadata": {},
   "outputs": [],
   "source": [
    "# 2-2-3. not 숫자 \\D\n",
    "# 대문자는 보통 해당 문자 클래스를 반전시킨다는 의미를 지닌다.\n",
    "# 숫자가 아닌 문자들과 매치된다. [^0-9]와 동일하다.\n",
    "\n",
    "p = re.compile(r'a\\Dc')\n",
    "m1 = p.match('abc')\n",
    "m2 = p.match('a1c')\n",
    "print(m1)\n",
    "print(m2)    # 매치되지 않는다."
   ]
  },
  {
   "cell_type": "code",
   "execution_count": 4,
   "metadata": {},
   "outputs": [
    {
     "output_type": "stream",
     "name": "stdout",
     "text": "<re.Match object; span=(0, 3), match='a c'>\nNone\n"
    }
   ],
   "source": [
    "# 2-2-4. 공백 \\s\n",
    "# space나 tab처럼 공백을 표현하는 문자와 매치된다.\n",
    "# [\\t\\n\\r\\f\\v]와 동일하다.\n",
    "\n",
    "p = re.compile(r'a\\sc')\n",
    "m1 = p.match('a c')\n",
    "m2 = p.match('abc')\n",
    "print(m1)\n",
    "print(m2)    # 공백이 아니기에 매치되지 않는다."
   ]
  },
  {
   "cell_type": "code",
   "execution_count": 5,
   "metadata": {},
   "outputs": [
    {
     "output_type": "stream",
     "name": "stdout",
     "text": "None\n<re.Match object; span=(0, 3), match='abc'>\n"
    }
   ],
   "source": [
    "# 2-2-5. not 공백 /S\n",
    "# space나 tab처럼 공백을 표현하는 문자가 아닌것과 매치된다.\n",
    "# [^\\t\\n\\r\\f\\v]와 동일하다.\n",
    "\n",
    "p = re.compile(r'a\\Sc')\n",
    "m1 = p.match('a c')\n",
    "m2 = p.match('abc')\n",
    "print(m1)     # 공백을 의미하는 문자이기에 매치되지 않는다.\n",
    "print(m2)"
   ]
  },
  {
   "cell_type": "code",
   "execution_count": 6,
   "metadata": {},
   "outputs": [
    {
     "output_type": "stream",
     "name": "stdout",
     "text": "<re.Match object; span=(0, 1), match='a'>\n<re.Match object; span=(0, 1), match='1'>\n<re.Match object; span=(0, 1), match='가'>\n"
    }
   ],
   "source": [
    "# 2-2-6. 문자+숫자 \\w\n",
    "# 문자와 숫자의 조합으로 구성되어있는 것과 매치된다.\n",
    "# [a-zA-Z0-9_]와 동일하다.\n",
    "\n",
    "p = re.compile(r'\\w')\n",
    "m1 = p.match('a')\n",
    "m2 = p.match('1')\n",
    "m3 = p.match('가')\n",
    "print(m1)\n",
    "print(m2)\n",
    "print(m3)"
   ]
  },
  {
   "cell_type": "code",
   "execution_count": 8,
   "metadata": {},
   "outputs": [
    {
     "output_type": "stream",
     "name": "stdout",
     "text": "None\nNone\nNone\n"
    }
   ],
   "source": [
    "# 2-2-7. not 문자+숫자 \\W\n",
    "# 문자와 숫자의 조합으로 구성되어있는 것과 매치된다.\n",
    "# [^a-zA-Z0-9_]와 동일하다.\n",
    "\n",
    "p = re.compile(r'\\W')\n",
    "m1 = p.match('a')\n",
    "m2 = p.match('1')\n",
    "m3 = p.match('가')\n",
    "print(m1)\n",
    "print(m2)\n",
    "print(m3)"
   ]
  },
  {
   "cell_type": "code",
   "execution_count": 9,
   "metadata": {},
   "outputs": [
    {
     "output_type": "stream",
     "name": "stdout",
     "text": "<re.Match object; span=(0, 3), match='123'>\nNone\n"
    }
   ],
   "source": [
    "# 3. re.Pattern 객체의 메서드\n",
    "# re.compile()로 생성된 객체를 의미한다.\n",
    "# 내부에 정규표현식을 담고 있어, 메서드의 인자로 문자열을 전달하는 방식으로 분석한다.\n",
    "\n",
    "# 3-1. .match()\n",
    "# 문자열의 처음부터 정규식과 매치되는지 조사한다.\n",
    "# 매치될 때에는 re.Match() 객체를 반환한다.\n",
    "# 매치되지 않을 때에는 None을 반환한다.\n",
    "\n",
    "p = re.compile(r'123')\n",
    "m1 = p.match('123')\n",
    "m2 = p.match('0123')\n",
    "print(m1)\n",
    "print(m2)    # 처음부터 조회되기에 매치되지 않는다."
   ]
  },
  {
   "cell_type": "code",
   "execution_count": 10,
   "metadata": {},
   "outputs": [
    {
     "output_type": "stream",
     "name": "stdout",
     "text": "<re.Match object; span=(0, 3), match='123'>\n<re.Match object; span=(1, 4), match='123'>\n"
    }
   ],
   "source": [
    "# 3-2. .search()\n",
    "# 문자열의 전체를 조회하여 정규식과 매치되는지 조사한다.\n",
    "# 매치될 때에는 re.Match() 객체를 반환한다.\n",
    "# 매치되지 않을 때에는 None을 반환한다.\n",
    "\n",
    "p = re.compile(r'123')\n",
    "m1 = p.search('123')\n",
    "m2 = p.search('0123456')\n",
    "print(m1)\n",
    "print(m2)"
   ]
  },
  {
   "cell_type": "code",
   "execution_count": null,
   "metadata": {},
   "outputs": [],
   "source": []
  }
 ]
}