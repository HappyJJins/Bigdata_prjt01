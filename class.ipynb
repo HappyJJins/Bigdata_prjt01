{
 "nbformat": 4,
 "nbformat_minor": 2,
 "metadata": {
  "language_info": {
   "name": "python",
   "codemirror_mode": {
    "name": "ipython",
    "version": 3
   },
   "version": "3.7.4-final"
  },
  "orig_nbformat": 2,
  "file_extension": ".py",
  "mimetype": "text/x-python",
  "name": "python",
  "npconvert_exporter": "python",
  "pygments_lexer": "ipython3",
  "version": 3,
  "kernelspec": {
   "name": "python3",
   "display_name": "Python 3"
  }
 },
 "cells": [
  {
   "cell_type": "code",
   "execution_count": 1,
   "metadata": {},
   "outputs": [
    {
     "output_type": "execute_result",
     "data": {
      "text/plain": "['__class__',\n '__delattr__',\n '__dict__',\n '__dir__',\n '__doc__',\n '__eq__',\n '__format__',\n '__ge__',\n '__getattribute__',\n '__gt__',\n '__hash__',\n '__init__',\n '__init_subclass__',\n '__le__',\n '__lt__',\n '__module__',\n '__ne__',\n '__new__',\n '__reduce__',\n '__reduce_ex__',\n '__repr__',\n '__setattr__',\n '__sizeof__',\n '__str__',\n '__subclasshook__',\n '__weakref__']"
     },
     "metadata": {},
     "execution_count": 1
    }
   ],
   "source": [
    "#클래스 선언\n",
    "class MyClass:\n",
    "    '''클래스 주석'''\n",
    "    pass\n",
    "dir(MyClass)"
   ]
  },
  {
   "cell_type": "code",
   "execution_count": 2,
   "metadata": {},
   "outputs": [
    {
     "output_type": "stream",
     "name": "stdout",
     "text": "하나\n5\n"
    }
   ],
   "source": [
    "class MyClass:\n",
    "    '''클래스 주석'''\n",
    "    name = \"하나\" #멤버변수\n",
    "    def sum(self, a, b): #멤버 메소드(클래스함수)\n",
    "        print(self.name) #멤버변수 불러올 때 반드시 self.\n",
    "        return a + b\n",
    "\n",
    "c1 = MyClass() # 인스턴스생성\n",
    "d1=c1.sum(2,3) # 멤버 변수 값 출력 \n",
    "print(d1)"
   ]
  },
  {
   "cell_type": "code",
   "execution_count": 3,
   "metadata": {},
   "outputs": [
    {
     "output_type": "stream",
     "name": "stdout",
     "text": "하나\n둘\n"
    }
   ],
   "source": [
    "class MyClass:\n",
    "    '''클래스 주석'''\n",
    "    name = \"하나\" #멤버변수\n",
    "    def sum(self, a, b): #멤버 메소드\n",
    "        print(self.name)\n",
    "        return a + b\n",
    "\n",
    "c1 = MyClass() # 인스턴스 객체생성\n",
    "c2 = MyClass()\n",
    "print(c1.name) #클래스 데이터 참조\n",
    "c2.name='둘' #c2의 멤버변수 수정\n",
    "print(c2.name) # 인스턴스 객체 접근하여 변경"
   ]
  },
  {
   "cell_type": "code",
   "execution_count": null,
   "metadata": {},
   "outputs": [],
   "source": [
    "#isinstance\n",
    "class Person:\n",
    "    pass\n",
    "class Animal:\n",
    "    pass\n",
    "class Student(Person):\n",
    "    pass\n",
    "p = Person()\n",
    "s = Student()\n",
    "a = Animal()\n",
    "print(isinstance(p, Person)) # p 인스턴스가 Person에게 상속받았는지확인\n",
    "print(isinstance(s, Person))\n",
    "print(isinstance(a, Person))"
   ]
  },
  {
   "cell_type": "code",
   "execution_count": null,
   "metadata": {},
   "outputs": [],
   "source": [
    "#생성자,소멸자\n",
    "class Person:\n",
    "    def __init__(self, name): #생성자 메소드, class가 생성되면 무조건 실행\n",
    "        self.name = name\n",
    "        print('{}은 사람입니다'.format(self.name))\n",
    "    def __del__(self):  #소멸자 메소드, 무조건 생성\n",
    "        print('{}은 사람은 제거 되었습니다'.format(self.name))\n",
    "\n",
    "def family():\n",
    "    a = Person(\"하나\")\n",
    "family()"
   ]
  },
  {
   "cell_type": "code",
   "execution_count": null,
   "metadata": {},
   "outputs": [],
   "source": [
    "# 클래스 변수\n",
    "class Person:\n",
    "    num_count = 0\n",
    "    def __init__(self,name):\n",
    "        self.name = name\n",
    "        print('{}는 사람입니다'.format(self.name))\n",
    "        Person.num_count +=1  # 클래스변수사용방법\n",
    "    def counter():\n",
    "        print('{}명 사람들이 있습니다'.format(Person.num_count)) # 클래스변수사용방법\n",
    "\n",
    "def family(name):\n",
    "    a = Person(name)\n",
    "family(\"하나\")\n",
    "family(\"둘\")\n",
    "family(\"셋\")\n",
    "Person.counter() # 클래스메소드사용방법"
   ]
  },
  {
   "cell_type": "code",
   "execution_count": 4,
   "metadata": {},
   "outputs": [
    {
     "output_type": "stream",
     "name": "stdout",
     "text": "3\n1\n1\n1\n"
    }
   ],
   "source": [
    "class Person:\n",
    "    count = 0\n",
    "\n",
    "    def __init__(self):\n",
    "        self.count = 1\n",
    "        Person.count += 1\n",
    "\n",
    "o = Person()\n",
    "t = Person()\n",
    "r = Person()\n",
    "\n",
    "print(Person.count)\n",
    "print(o.count)\n",
    "print(t.count)\n",
    "print(r.count)"
   ]
  },
  {
   "cell_type": "code",
   "execution_count": 7,
   "metadata": {},
   "outputs": [
    {
     "output_type": "stream",
     "name": "stdout",
     "text": "6\n11\n"
    }
   ],
   "source": [
    "class FourCal:\n",
    "    def setdata(self, num1, num2):\n",
    "        self.num1=num1\n",
    "        self.num2=num2\n",
    "    def add(self):\n",
    "        result=self.num1+self.num2\n",
    "        return result\n",
    "    def sub(self):\n",
    "        result=self.num1-self.num2\n",
    "        return result\n",
    "    def mul(self):\n",
    "        result=self.num1*self.num2\n",
    "        return result\n",
    "    def div(self):\n",
    "        result=self.num1/self.num2\n",
    "        return result\n",
    "\n",
    "cls1=FourCal()\n",
    "cls2=FourCal()\n",
    "cls1.setdata(4,2)\n",
    "cls2.setdata(3,8)\n",
    "print(cls1.add())\n",
    "print(cls2.add())\n",
    ""
   ]
  },
  {
   "cell_type": "code",
   "execution_count": 27,
   "metadata": {},
   "outputs": [
    {
     "output_type": "stream",
     "name": "stdout",
     "text": "6\n2.0\n"
    },
    {
     "output_type": "execute_result",
     "data": {
      "text/plain": "0"
     },
     "metadata": {},
     "execution_count": 27
    }
   ],
   "source": [
    "class FourCal:\n",
    "    def __init__(self,num1,num2):\n",
    "        self.num1=num1\n",
    "        self.num2=num2\n",
    "    def add(self):\n",
    "        result=self.num1+self.num2\n",
    "        return result\n",
    "    def sub(self):\n",
    "        result=self.num1-self.num2\n",
    "        return result\n",
    "    def mul(self):\n",
    "        result=self.num1*self.num2\n",
    "        return result\n",
    "    def div(self):\n",
    "        result=self.num1/self.num2\n",
    "        return result\n",
    "cls=FourCal(4,2)\n",
    "print(cls.add())\n",
    "print(cls.div())\n",
    "\n",
    "class MoreFourCal(FourCal):\n",
    "    def pow(self):\n",
    "        result=self.num1**self.num2\n",
    "        return result\n",
    "\n",
    "cls1=MoreFourCal(4,2)\n",
    "cls1.pow()\n",
    "\n",
    "class SafeFourCal(FourCal):\n",
    "    def div(self):\n",
    "        if self.num2==0:\n",
    "            return 0\n",
    "        else:\n",
    "            return self.num1/self.num2\n",
    "cls2=SafeFourCal(4,0)\n",
    "cls2.div()"
   ]
  },
  {
   "cell_type": "code",
   "execution_count": null,
   "metadata": {},
   "outputs": [],
   "source": []
  },
  {
   "cell_type": "code",
   "execution_count": 25,
   "metadata": {},
   "outputs": [
    {
     "output_type": "stream",
     "name": "stdout",
     "text": "55 이 생성되었습니다.\n[0, 1, 2, '짝', 4, 5, '짝', 7, 8, '짝', 10]\n25\n30\n"
    }
   ],
   "source": [
    "class Sum:\n",
    "    def __init__(self, num):\n",
    "        self.num=num\n",
    "        print(sum(range(self.num+1)),\"이 생성되었습니다.\") \n",
    "    def __del__(self):\n",
    "        print(sum(range(self.num+1)),\"이 소멸되었습니다.\") \n",
    "    def 삼육구(self):\n",
    "        print([''.join((list(str(x)).count('3')+list(str(x)).count('6')+list(str(x)).count('9'))*\"짝\") if list(str(x)).count('3')+list(str(x)).count('6')+list(str(x)).count('9')>0 else x for x in range(self.num+1)])\n",
    "    def odd(self):\n",
    "        print(sum([x for x in range(self.num+1) if x%2!=0]))\n",
    "    def even(self):\n",
    "        print(sum([x for x in range(self.num+1) if x%2!=1]))\n",
    "\n",
    "cls=Sum(10)\n",
    "cls.삼육구()\n",
    "cls.odd()\n",
    "cls.even()"
   ]
  },
  {
   "cell_type": "code",
   "execution_count": 21,
   "metadata": {},
   "outputs": [
    {
     "output_type": "stream",
     "name": "stdout",
     "text": "[0, 1, 2, '짝', 4, 5, '짝', 7, 8, '짝', 10, 11, 12, '짝', 14, 15, '짝', 17, 18, '짝', 20, 21, 22, '짝', 24, 25, '짝', 27, 28, '짝', '짝', '짝', '짝', '짝짝']\n"
    }
   ],
   "source": []
  },
  {
   "cell_type": "code",
   "execution_count": null,
   "metadata": {},
   "outputs": [],
   "source": []
  },
  {
   "cell_type": "code",
   "execution_count": 30,
   "metadata": {},
   "outputs": [
    {
     "output_type": "execute_result",
     "data": {
      "text/plain": "1"
     },
     "metadata": {},
     "execution_count": 30
    }
   ],
   "source": []
  },
  {
   "cell_type": "code",
   "execution_count": null,
   "metadata": {},
   "outputs": [],
   "source": []
  }
 ]
}